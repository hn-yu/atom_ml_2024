{
 "cells": [
  {
   "cell_type": "markdown",
   "id": "c83313c4-9118-4d4a-bb0c-9523c49155c1",
   "metadata": {},
   "source": [
    "# NEMD\n",
    "## Introduction\n",
    "在这个教程中，我们对碳纳米管采用一个C的通用NEP势（GPUMD自带）进行NEMD模拟。这是一个toy example，通用势在描述碳纳米管热导率时可能不够准确。此外，为了让大家能够快速运行完成，模拟的时间非常短，而且也没有进行多次模拟平均。我们这样做是为了让大家尽快熟悉GPUMD模拟过程中的输入与输出。"
   ]
  },
  {
   "cell_type": "markdown",
   "id": "a841e068-0fdd-49cc-82a9-d417f4d0ea49",
   "metadata": {},
   "source": [
    "### 导入相关的环境\n",
    "ase包用于建模并将所建模型写出，pylab包提供画图环境。"
   ]
  },
  {
   "cell_type": "code",
   "execution_count": 1,
   "id": "cf7a34d5-5711-4ef5-8dd9-c859a79a7760",
   "metadata": {},
   "outputs": [],
   "source": [
    "from ase.io import write\n",
    "from ase.build import nanotube\n",
    "from pylab import *"
   ]
  },
  {
   "cell_type": "markdown",
   "id": "2502103a-ee4d-48c0-86f1-b029c123f903",
   "metadata": {},
   "source": [
    "## 准备输入文件\n",
    "考虑amrchair的单壁碳纳米管（10， 10）。热输运沿着$z$方向。 我们将 $z$ 方向均匀划分为10个group。 固定group 0， group 1和group 9分别作为热源和热汇。\n",
    "\n",
    "### 生成  [model.xyz](https://gpumd.org/gpumd/input_files/model_xyz.html) 文件："
   ]
  },
  {
   "cell_type": "code",
   "execution_count": 2,
   "id": "3dd3d230-b9a8-493c-afb9-b5bcbbbc09fe",
   "metadata": {},
   "outputs": [],
   "source": [
    "cnt = nanotube(10, 10, bond=1.42, symbol='C', length=100)"
   ]
  },
  {
   "cell_type": "code",
   "execution_count": 3,
   "id": "48e74799-72e8-4d79-a13e-b6afabd9b19f",
   "metadata": {},
   "outputs": [],
   "source": [
    "uc_lz = cnt.cell[2, 2] / 100"
   ]
  },
  {
   "cell_type": "code",
   "execution_count": 4,
   "id": "921fbe85-a60a-43f1-b24c-5f56bd0e010d",
   "metadata": {},
   "outputs": [],
   "source": [
    "cnt.cell[0, 0] = 40\n",
    "cnt.cell[1, 1] = 40"
   ]
  },
  {
   "cell_type": "code",
   "execution_count": 5,
   "id": "744a0445-9e54-457d-a03d-88ddc78252f7",
   "metadata": {},
   "outputs": [],
   "source": [
    "lz = cnt.cell[2, 2]"
   ]
  },
  {
   "cell_type": "code",
   "execution_count": 6,
   "id": "db54be57-5f5a-41ff-8812-284311906a1a",
   "metadata": {},
   "outputs": [],
   "source": [
    "cnt.set_pbc([0, 0, 1])"
   ]
  },
  {
   "cell_type": "code",
   "execution_count": 7,
   "id": "fa1783f1-f0e0-4b93-aca2-faa9a10819b8",
   "metadata": {},
   "outputs": [],
   "source": [
    "cnt.center()"
   ]
  },
  {
   "cell_type": "code",
   "execution_count": 8,
   "id": "8e19c674-5762-44b3-b2f2-aecdfd13b92c",
   "metadata": {},
   "outputs": [
    {
     "name": "stdout",
     "output_type": "stream",
     "text": [
      "z-direction boundaries: [-1, 24.6, 49.19, 73.79, 98.38, 122.98, 147.57, 172.17, 196.76, 221.36, 246.95]\n"
     ]
    }
   ],
   "source": [
    "split = np.array([lz/10]*10)\n",
    "split = [-1] + list(np.cumsum(split))\n",
    "split[-1] += 1\n",
    "print(\"z-direction boundaries:\", [round(x,2) for x in split])"
   ]
  },
  {
   "cell_type": "markdown",
   "id": "e37d2267-0771-40e7-8920-780db4baf665",
   "metadata": {},
   "source": [
    "### 为NEMD模拟添加group编号"
   ]
  },
  {
   "cell_type": "code",
   "execution_count": 9,
   "id": "d5971b91-df8b-46fa-9860-fef4bbba64ba",
   "metadata": {},
   "outputs": [],
   "source": [
    "group_id = []\n",
    "for atom in cnt:\n",
    "    z = atom.position[-1]\n",
    "    for i in range(10):\n",
    "        if z > split[i] and z <= split[i + 1]:\n",
    "            group_index = i\n",
    "    group_id.append(group_index)\n",
    "        "
   ]
  },
  {
   "cell_type": "code",
   "execution_count": 10,
   "id": "4f80aca1-a5a1-4a3c-877a-56be25297004",
   "metadata": {},
   "outputs": [],
   "source": [
    "cnt.arrays[\"group\"] = np.array(group_id)"
   ]
  },
  {
   "cell_type": "code",
   "execution_count": 11,
   "id": "cd1e178b-7dde-41d2-8d57-c0ffa57d3ae6",
   "metadata": {},
   "outputs": [],
   "source": [
    "write(\"model.xyz\", cnt)"
   ]
  },
  {
   "cell_type": "markdown",
   "id": "1e1be101-957e-4bdd-be46-7abca4fd46f3",
   "metadata": {},
   "source": [
    "### run.in 文件:\n",
    "[run.in 输入文件](https://gpumd.org/gpumd/input_files/run_in.html)如下所示：\n",
    "```\n",
    "potential\tC_2024_NEP4.txt\n",
    "\n",
    "time_step       1.0\n",
    "velocity        300\n",
    "\n",
    "ensemble        npt_ber 300 300 100 0 0 0 100 100 100 1000\n",
    "dump_position   1000\n",
    "run             10000\n",
    "\n",
    "fix\t\t0\n",
    "ensemble \theat_lan 300 100 50 1 9\n",
    "compute      \t0 10 100 temperature  \n",
    "run\t\t100000\n",
    "```\n",
    "\n",
    "\n",
    "第一行使用[potential](https://gpumd.org/gpumd/input_parameters/potential.html) 关键词来指定所使用的势函数。\n",
    "\n",
    "第二行使用[time_step](https://gpumd.org/gpumd/input_parameters/time_step.html) 关键词设定积分步长为1 fs。\n",
    "\n",
    "第三行使用[velocity](https://gpumd.org/gpumd/input_parameters/velocity.html)关键词来设定初始速度为300 K。 \n",
    "\n",
    "\n",
    "一共有两次run，即MD模拟的运行. 第一个[run](https://gpumd.org/gpumd/input_parameters/run.html)为平衡阶段\n",
    "\n",
    "  - 这里, 使用NPT系综（[ensemble](https://gpumd.org/gpumd/input_parameters/ensemble.html)） (Berendsen 热浴和压浴)。 目标温度是300 K，对$z$方向控压为0 GPa，温度和压强的弛豫时间分别是100和1000个时间步。 \n",
    "  - 每1000步输出一帧原子轨迹。\n",
    "  - 这次运行持续10000步。 \n",
    "\n",
    "第二个[run](https://gpumd.org/gpumd/input_parameters/run.html)为产出的模拟。 \n",
    "\n",
    "  - group 0的原子被固定\n",
    "  - 这里采用两个朗之万热浴([ensemble](https://gpumd.org/gpumd/input_parameters/ensemble.html)) 来生成非平衡的热流。 朗之万热浴的时间参数为0.1 ps (100个时间步)。 热源（heat source）的目标温度为$300+50=350$ K，热汇（heat sink）为$300-50=250$ K. 在group 1中的原子构成了热源区域，在group 9的原子构成了热汇区域.\n",
    "  - [compute](https://gpumd.org/gpumd/input_parameters/compute.html)关键词用于计算群温度和能量交换速率。在这里使用默认的群方法0，热力学数据每10步进行一次采样并且进行100次平均然后写出。 \n",
    "  - 产出模拟运行了$10^5$步 (100 ps) [run](https://gpumd.org/gpumd/input_parameters/run.html)。\n",
    "  \n",
    "注意，这只是一个toy example，要获得准确的结果，需要对势函数进行可靠性测试。在具体模拟中，需要更长的时间模拟（2个数量级以上），进行多次独立模拟平均。\n"
   ]
  },
  {
   "cell_type": "markdown",
   "id": "8277de7d-e55a-4624-a941-4f5955a35da2",
   "metadata": {},
   "source": [
    "## 结果与讨论\n",
    "### 计算时间\n",
    "- 使用一张Tesla V100显卡, 我们的模拟速度可以达到 $2 \\times 10^{6}$ 原子-步每秒。"
   ]
  },
  {
   "cell_type": "markdown",
   "id": "0928ab83-af83-4146-8a99-4e50d512cea7",
   "metadata": {},
   "source": [
    "### 图片设置"
   ]
  },
  {
   "cell_type": "code",
   "execution_count": 12,
   "id": "47391323-a15f-4632-88d3-39a2bfb4072d",
   "metadata": {},
   "outputs": [],
   "source": [
    "aw = 2 \n",
    "fs = 16 \n",
    "lw = 2\n",
    "ms = 12\n",
    "font = {'size'   : fs}\n",
    "matplotlib.rc('font', **font)\n",
    "matplotlib.rc('axes' , linewidth=aw)\n",
    "def set_fig_properties(ax_list):\n",
    "    tl = 8\n",
    "    tw = 2\n",
    "    tlm = 4\n",
    "    for ax in ax_list:\n",
    "        ax.tick_params(which='major', length=tl, width=tw)\n",
    "        ax.tick_params(which='minor', length=tlm, width=tw)\n",
    "        ax.tick_params(which='both', axis='both', direction='out', right=False, top=False)"
   ]
  },
  {
   "cell_type": "markdown",
   "id": "ecbac8d7-4617-452f-bb30-e37d63c89ce0",
   "metadata": {},
   "source": [
    "### 对NEMD结果绘图\n",
    "加载[compute.out](https://gpumd.org/gpumd/output_files/compute_out.html)输出文件并绘图。"
   ]
  },
  {
   "cell_type": "markdown",
   "id": "29f4c0a8-98b1-40c0-9c5a-03dab0b5ba3c",
   "metadata": {},
   "source": [
    "compute.out记录了NEMD模拟输出的热力学数据，包括热源和热汇流出和流入的能量（最后两列），以及我们之前定义的不同group的温度（前10列）。"
   ]
  },
  {
   "cell_type": "code",
   "execution_count": 13,
   "id": "ab4eb7ce-9b94-4aa3-9936-6e8a94b7e324",
   "metadata": {},
   "outputs": [
    {
     "ename": "SyntaxError",
     "evalue": "invalid syntax (3874411874.py, line 1)",
     "output_type": "error",
     "traceback": [
      "\u001b[1;36m  Cell \u001b[1;32mIn[13], line 1\u001b[1;36m\u001b[0m\n\u001b[1;33m    cat compute.out |head -5\u001b[0m\n\u001b[1;37m        ^\u001b[0m\n\u001b[1;31mSyntaxError\u001b[0m\u001b[1;31m:\u001b[0m invalid syntax\n"
     ]
    }
   ],
   "source": [
    "cat compute.out |head -5"
   ]
  },
  {
   "cell_type": "code",
   "execution_count": 14,
   "id": "4d10068e-64d5-4454-987c-3e71ef799d17",
   "metadata": {},
   "outputs": [],
   "source": [
    "compute = np.loadtxt(\"compute.out\")\n",
    "temp = compute[:, :10]\n",
    "ndata = temp.shape[0]\n",
    "Eout = compute[:, 10]\n",
    "Ein = compute[:, 11]\n",
    "temp_ave = np.mean(temp[int(ndata/2)+1:, 1:], axis =0) #unit in K\n",
    "\n",
    "dt = 0.001  # ps \n",
    "Ns = 1000  # Sample interval\n",
    "t = dt*np.arange(1,ndata+1) * Ns/1000  # ns\n",
    "\n",
    "group_idx = np.arange(1, 10)"
   ]
  },
  {
   "cell_type": "code",
   "execution_count": 15,
   "id": "39a230f8-5722-4548-a0b6-1ee95853fd68",
   "metadata": {},
   "outputs": [
    {
     "data": {
      "image/png": "[encoded data removed]",
      "text/plain": [
       "<Figure size 1400x500 with 2 Axes>"
      ]
     },
     "metadata": {},
     "output_type": "display_data"
    }
   ],
   "source": [
    "figure(figsize=(14, 5))\n",
    "subplot(1, 2, 1)\n",
    "set_fig_properties([gca()])\n",
    "plot(t, Ein, lw=lw, label=\"Heat sink\")\n",
    "plot(t, Eout, lw=lw, label=\"Heat source\")\n",
    "xlabel(r'Time (ns)')\n",
    "ylabel(r'Energy exchange (eV)')\n",
    "legend()\n",
    "title(\"(a)\")\n",
    "\n",
    "subplot(1, 2, 2)\n",
    "set_fig_properties([gca()])\n",
    "plot(group_idx, temp_ave, \"-o\", lw=lw, ms=ms)\n",
    "xlabel(r'Group label')\n",
    "ylabel(r'Temperature (K)')\n",
    "title(\"(b)\")\n",
    "savefig(\"nemd.png\", bbox_inches='tight')"
   ]
  },
  {
   "cell_type": "markdown",
   "id": "b1b4a356-f318-4f4f-9fc3-4c00cc911d68",
   "metadata": {},
   "source": [
    "**(a)** 热源和热汇累积交换的能量。 **(b)** NEMD模拟中的温度分布。"
   ]
  },
  {
   "cell_type": "markdown",
   "id": "11b5f174-44cb-46db-88fb-a3a6354158be",
   "metadata": {},
   "source": [
    "- 上图展示了温度分布和热浴中积累的能量。 与热源区域耦合的热浴能量在不断减少, 这表明热浴在向热源区域的原子输运能量；而与热汇区域耦合的热浴能量在不断增加，这是由于能量从热汇区域向热浴输送。图 **(a)** 中两条线斜率的绝对值应该相等，否则能量将不守恒。斜率的绝对值即为能量输运速率 $Q=dE/dt$。\n",
    "- 热导$G$（thermal conductance）可以计算为：\n",
    "$$\n",
    "G = \\frac{Q/S}{\\Delta T},\n",
    "$$\n",
    "其中$S$是截面积、 $\\Delta T$是温差。\n",
    "\n",
    "- 进一步表观热导率$\\kappa$可以得到：\n",
    "$$\n",
    "\\kappa = G l_{trans},\n",
    "$$\n",
    "其中，$l_{trans}$是输运长度，即热源和热汇中间的距离。"
   ]
  },
  {
   "cell_type": "code",
   "execution_count": 16,
   "id": "b1c49f4f-0040-433b-9136-9511fe1f087a",
   "metadata": {},
   "outputs": [
    {
     "data": {
      "text/plain": [
       "58.33428775510208"
      ]
     },
     "execution_count": 16,
     "metadata": {},
     "output_type": "execute_result"
    }
   ],
   "source": [
    "deltaT = temp_ave[1] - temp_ave[-1]  # [K]\n",
    "deltaT"
   ]
  },
  {
   "cell_type": "code",
   "execution_count": 17,
   "id": "9422197b-e16b-4760-9a6a-1d382d282249",
   "metadata": {},
   "outputs": [
    {
     "data": {
      "text/plain": [
       "5.879491000000001"
      ]
     },
     "execution_count": 17,
     "metadata": {},
     "output_type": "execute_result"
    }
   ],
   "source": [
    "Q1 = (Ein[int(ndata/2)] - Ein[-1])/(ndata/2)/dt/Ns\n",
    "Q2 = (Eout[int(ndata/2)] - Eout[-1])/(ndata/2)/dt/Ns\n",
    "Q = mean([abs(Q1), abs(Q2)])  # [eV/ps]\n",
    "Q"
   ]
  },
  {
   "cell_type": "markdown",
   "id": "637dd3de-c1d0-46c2-b047-180f3535f439",
   "metadata": {},
   "source": [
    "碳纳米管的半径可以通过如下公式估算得到：\n",
    "$$\n",
    "R = \\frac{\\sqrt{3}a_{CC}}{2\\pi}\\sqrt{m^2+n^2+mn},\n",
    "$$\n",
    "其中$a_{CC}$是C-C键长度，$m$和$n$是定义手性的两个整数。在这里，$a_{CC}=0.142$ nm，$m=n=$ 10。\n",
    "\n",
    "为计算碳纳米管的截面积$S$，我们假设碳纳米管的厚度$l=0.335$ nm。\n",
    "$$\n",
    "S = \\pi(R + l/2)^2 - \\pi(R - l/2)^2\n",
    "$$"
   ]
  },
  {
   "cell_type": "code",
   "execution_count": 18,
   "id": "520a2b1b-d580-49ca-9dcb-ff21acc15add",
   "metadata": {},
   "outputs": [
    {
     "data": {
      "text/plain": [
       "0.6780000575714741"
      ]
     },
     "execution_count": 18,
     "metadata": {},
     "output_type": "execute_result"
    }
   ],
   "source": [
    "R = np.sqrt(3)*0.142*np.sqrt(10**2+10**2+10*10)/(2*np.pi) # [nm]\n",
    "R"
   ]
  },
  {
   "cell_type": "code",
   "execution_count": 19,
   "id": "5497c6fe-5747-4a86-9db6-3527e3f955ff",
   "metadata": {},
   "outputs": [
    {
     "data": {
      "text/plain": [
       "1.4270999999999998"
      ]
     },
     "execution_count": 19,
     "metadata": {},
     "output_type": "execute_result"
    }
   ],
   "source": [
    "l = 0.335 # [nm]\n",
    "S = np.pi*(R + l/2)**2 - np.pi*(R - l/2)**2 # [nm2]\n",
    "S"
   ]
  },
  {
   "cell_type": "code",
   "execution_count": 20,
   "id": "fca1a533-9e36-4fa0-b0df-b50d3c16cd87",
   "metadata": {},
   "outputs": [
    {
     "data": {
      "text/plain": [
       "11.300077103456815"
      ]
     },
     "execution_count": 20,
     "metadata": {},
     "output_type": "execute_result"
    }
   ],
   "source": [
    "G = 160*Q/deltaT/S  # [GW/m2/K]\n",
    "G"
   ]
  },
  {
   "cell_type": "code",
   "execution_count": 21,
   "id": "e04afa22-3be8-4b93-b2b3-a392127f4488",
   "metadata": {},
   "outputs": [
    {
     "data": {
      "text/plain": [
       "17.216585027234647"
      ]
     },
     "execution_count": 21,
     "metadata": {},
     "output_type": "execute_result"
    }
   ],
   "source": [
    "l_trans = (split[-2] - split[2]) * 0.1 # [nm]\n",
    "l_trans"
   ]
  },
  {
   "cell_type": "code",
   "execution_count": 22,
   "id": "544f534e-5f89-4806-8c51-57ca2bfb33de",
   "metadata": {},
   "outputs": [
    {
     "data": {
      "text/plain": [
       "194.54873826597165"
      ]
     },
     "execution_count": 22,
     "metadata": {},
     "output_type": "execute_result"
    }
   ],
   "source": [
    "k = G * l_trans # [W/m/K]\n",
    "k"
   ]
  },
  {
   "cell_type": "markdown",
   "id": "5d5b94b6-f150-4ce5-9761-1d8e1fd01dad",
   "metadata": {},
   "source": [
    "## References\n",
    "- [Fan 2019] Zheyong Fan, Haikuan Dong, Ari Harju, and Tapio Ala-Nissila, [Homogeneous nonequilibrium molecular dynamics method for heat transport and spectral decomposition with many-body potentials](https://doi.org/10.1103/PhysRevB.99.064308), Phys. Rev. B **99**, 064308 (2019).\n",
    "- [Li 2019] Zhen Li, Shiyun Xiong, Charles Sievers, Yue Hu, Zheyong Fan, Ning Wei, Hua Bao, Shunda Chen, Davide Donadio, and Tapio Ala-Nissila, [Influence of Thermostatting on Nonequilibrium Molecular Dynamics Simulations of Heat Conduction in Solids](https://doi.org/10.1063/1.5132543), J. Chem. Phys. **151**, 234105 (2019)."
   ]
  }
 ],
 "metadata": {
  "kernelspec": {
   "display_name": "Python 3 (ipykernel)",
   "language": "python",
   "name": "python3"
  },
  "language_info": {
   "codemirror_mode": {
    "name": "ipython",
    "version": 3
   },
   "file_extension": ".py",
   "mimetype": "text/x-python",
   "name": "python",
   "nbconvert_exporter": "python",
   "pygments_lexer": "ipython3",
   "version": "3.11.8"
  }
 },
 "nbformat": 4,
 "nbformat_minor": 5
}
