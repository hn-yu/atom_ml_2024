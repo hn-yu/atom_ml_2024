{
 "cells": [
  {
   "cell_type": "markdown",
   "id": "694f2ee2-9ead-4842-9620-62b1e7f6e466",
   "metadata": {},
   "source": [
    "# Python快速入门指导\n",
    "\n",
    "本tutorial中，你将会学到如下知识点：\n",
    "\n",
    "* [1、第一个Python程序：Hello World!](#py1)\n",
    "* [2、字符串](#py2)\n",
    "* [3、print函数](#py3)\n",
    "* [4、对象](#py4)\n",
    "* [5、变量](#py5)\n",
    "* [6、符合运算符号](#py6)\n",
    "* [7、数值型对象：整数、浮点数和复数](#py7)\n",
    "* [8、内置的常用科学计算函数](#py8)\n",
    "* [9、numpy、scipy库中常用的科学计算相关的函数](#py9)\n",
    "* [10、布尔值：True 和 False](#py10)\n",
    "* [11、字符串对象：3种创建形式及常见操作](#py11)\n",
    "* [12、列表](#py12)\n",
    "* [13、元组](#py13)\n",
    "* [14、字典](#py14)\n",
    "* [15、控制结构](#py15)\n",
    "* [16、函数](#py16)"
   ]
  },
  {
   "cell_type": "markdown",
   "id": "58c65aef-8a0d-431c-be03-69e353691c5e",
   "metadata": {},
   "source": [
    "## 1、第一个Python程序：Hello World!<a id=\"py1\"></a>"
   ]
  },
  {
   "cell_type": "code",
   "execution_count": 1,
   "id": "9e851e9f-78ab-42c9-a6d8-cd5a0147742c",
   "metadata": {},
   "outputs": [
    {
     "name": "stdout",
     "output_type": "stream",
     "text": [
      "Hello World!\n"
     ]
    }
   ],
   "source": [
    "print(\"Hello World!\")"
   ]
  },
  {
   "cell_type": "markdown",
   "id": "d5120687-8678-4319-b3d1-5289430853ae",
   "metadata": {},
   "source": [
    "## 2、字符串 <a id=\"py2\"></a>\n",
    "- 单引号创建\n",
    "- 双引号创建\n",
    "- 三组引号创建"
   ]
  },
  {
   "cell_type": "code",
   "execution_count": 2,
   "id": "2200f7a3-a752-4a94-a5c1-29d26938e4a6",
   "metadata": {},
   "outputs": [
    {
     "data": {
      "text/plain": [
       "'hello world'"
      ]
     },
     "execution_count": 2,
     "metadata": {},
     "output_type": "execute_result"
    }
   ],
   "source": [
    "# 双引号\n",
    "\"hello world\""
   ]
  },
  {
   "cell_type": "code",
   "execution_count": 3,
   "id": "f2a63b97-b06c-42b6-a6a1-7d5312100013",
   "metadata": {},
   "outputs": [
    {
     "data": {
      "text/plain": [
       "'hello world'"
      ]
     },
     "execution_count": 3,
     "metadata": {},
     "output_type": "execute_result"
    }
   ],
   "source": [
    "# 单引号\n",
    "'hello world'"
   ]
  },
  {
   "cell_type": "code",
   "execution_count": 4,
   "id": "5e1c6569-4dde-4f1d-bc10-6cbf1ac097df",
   "metadata": {},
   "outputs": [
    {
     "data": {
      "text/plain": [
       "\"I'm fine!\""
      ]
     },
     "execution_count": 4,
     "metadata": {},
     "output_type": "execute_result"
    }
   ],
   "source": [
    "# 双引号\n",
    "\"I'm fine!\""
   ]
  },
  {
   "cell_type": "code",
   "execution_count": 5,
   "id": "28f43e73-f8de-4230-9885-766359d3c2e4",
   "metadata": {},
   "outputs": [
    {
     "data": {
      "text/plain": [
       "'\\n-line1-\\n-line2-\\n-line3-\\n'"
      ]
     },
     "execution_count": 5,
     "metadata": {},
     "output_type": "execute_result"
    }
   ],
   "source": [
    "# 三组双引号\n",
    "\"\"\"\n",
    "-line1-\n",
    "-line2-\n",
    "-line3-\n",
    "\"\"\""
   ]
  },
  {
   "cell_type": "code",
   "execution_count": 6,
   "id": "8b353325-7f7a-471e-8174-d45f4725caae",
   "metadata": {},
   "outputs": [
    {
     "data": {
      "text/plain": [
       "\"\\nI am learning python, it's fun!\\n\""
      ]
     },
     "execution_count": 6,
     "metadata": {},
     "output_type": "execute_result"
    }
   ],
   "source": [
    "# 三组单引号\n",
    "'''\n",
    "I am learning \\\n",
    "python, it's \\\n",
    "fun!\n",
    "'''"
   ]
  },
  {
   "cell_type": "markdown",
   "id": "a94e1ad1-b2fc-4a00-9a55-2caf4be2e330",
   "metadata": {},
   "source": [
    "## 3、print函数<a id=\"py3\"></a>"
   ]
  },
  {
   "cell_type": "code",
   "execution_count": 7,
   "id": "a4b1e352-f1cc-43f9-bb7f-146e95f3061e",
   "metadata": {},
   "outputs": [
    {
     "name": "stdout",
     "output_type": "stream",
     "text": [
      "20240726\n",
      "\n",
      "\n",
      "0 hello world -1\n",
      "\n",
      "\n"
     ]
    },
    {
     "data": {
      "text/plain": [
       "\u001b[0;31mDocstring:\u001b[0m\n",
       "print(value, ..., sep=' ', end='\\n', file=sys.stdout, flush=False)\n",
       "\n",
       "Prints the values to a stream, or to sys.stdout by default.\n",
       "Optional keyword arguments:\n",
       "file:  a file-like object (stream); defaults to the current sys.stdout.\n",
       "sep:   string inserted between values, default a space.\n",
       "end:   string appended after the last value, default a newline.\n",
       "flush: whether to forcibly flush the stream.\n",
       "\u001b[0;31mType:\u001b[0m      builtin_function_or_method"
      ]
     },
     "metadata": {},
     "output_type": "display_data"
    }
   ],
   "source": [
    "# 打印单个值\n",
    "print(20240726)\n",
    "print('\\n')\n",
    "\n",
    "# 打印多个值\n",
    "print(0, \"hello\", \"world\", -1)\n",
    "print('\\n')\n",
    "\n",
    "# 查看函数帮助文档 print?? 或 print?\n",
    "print?"
   ]
  },
  {
   "cell_type": "markdown",
   "id": "fbcbf290-c2d4-4348-90e7-ff09875d20d1",
   "metadata": {},
   "source": [
    "## 4、对象<a id=\"py4\"></a>\n",
    "Python中一切都是对象，上面看到的print函数、数字、字符串，都是对象，都有自己的方法和属性。"
   ]
  },
  {
   "cell_type": "markdown",
   "id": "55d2de86-e09c-4c83-81b2-8339e086e944",
   "metadata": {},
   "source": [
    "## 5、变量<a id=\"py5\"></a>\n",
    "\n",
    "### 命名规则：\n",
    "\n",
    "- 变量名只能包含字母、数字和下划线；\n",
    "- 变量名不能以数字开头；\n",
    "- 不能使用Python内置关键字作为变量名，如and, as, assert, break, class, continue, def, del, elif, else, except, exec, finally, for, from, global, if, import, in, is, lambda, not, or, pass, print, raise, return, try, while, with, yield；\n",
    "- 变量名应该是具有描述性的，方便理解；\n",
    "- 推荐使用小写字母加_的方式命名，如user_name。\n",
    "\n",
    "### 变量赋值\n",
    "\n",
    "- 用等号进行赋值，赋值的本质是将对象赋给变量；\n",
    "- 在等号赋值的过程中，等号左边是变量，右边是对象；\n",
    "- 赋值完成后，调用变量就是调用对应对象；"
   ]
  },
  {
   "cell_type": "code",
   "execution_count": 8,
   "id": "4702930f-95a7-4d6d-b212-e23a88ee26f8",
   "metadata": {},
   "outputs": [
    {
     "name": "stdout",
     "output_type": "stream",
     "text": [
      "r = 2, s = 12.56\n"
     ]
    }
   ],
   "source": [
    "r = 2\n",
    "PI = 3.14\n",
    "s = PI * r * r\n",
    "print(\"r = {0}, s = {1}\".format(r, s))"
   ]
  },
  {
   "cell_type": "markdown",
   "id": "9b39c366-acec-4219-9b13-8ef16bdbe13e",
   "metadata": {},
   "source": [
    "## 6、复合运算符号<a id=\"py6\"></a>\n",
    "+=，-=，*=，/=，%=，%=\n",
    "a += b 等价于 a = a + b，其余类推。"
   ]
  },
  {
   "cell_type": "code",
   "execution_count": 9,
   "id": "1ad8e2d9-cc5e-4be3-95ce-13def411f7ca",
   "metadata": {},
   "outputs": [
    {
     "data": {
      "text/plain": [
       "3"
      ]
     },
     "execution_count": 9,
     "metadata": {},
     "output_type": "execute_result"
    }
   ],
   "source": [
    "a = 1\n",
    "b = 2\n",
    "a += b\n",
    "a"
   ]
  },
  {
   "cell_type": "code",
   "execution_count": 10,
   "id": "d94a44b1-5046-4d25-ae20-a9873ef87af0",
   "metadata": {},
   "outputs": [
    {
     "data": {
      "text/plain": [
       "int"
      ]
     },
     "execution_count": 10,
     "metadata": {},
     "output_type": "execute_result"
    }
   ],
   "source": [
    "type(r)"
   ]
  },
  {
   "cell_type": "code",
   "execution_count": 11,
   "id": "1bceb710-d3ae-4437-b418-61b39762d714",
   "metadata": {},
   "outputs": [
    {
     "data": {
      "text/plain": [
       "builtin_function_or_method"
      ]
     },
     "execution_count": 11,
     "metadata": {},
     "output_type": "execute_result"
    }
   ],
   "source": [
    "type(print)"
   ]
  },
  {
   "cell_type": "code",
   "execution_count": 12,
   "id": "80e03d79-4737-4246-947b-4c98bc4e1ee9",
   "metadata": {},
   "outputs": [
    {
     "name": "stdout",
     "output_type": "stream",
     "text": [
      "2 0\n"
     ]
    }
   ],
   "source": [
    "print(r.real, r.imag)"
   ]
  },
  {
   "cell_type": "code",
   "execution_count": 13,
   "id": "a1969d1e-c84f-4a79-9c7d-3585fa3565a4",
   "metadata": {},
   "outputs": [
    {
     "data": {
      "text/plain": [
       "<function int.to_bytes(length, byteorder, *, signed=False)>"
      ]
     },
     "execution_count": 13,
     "metadata": {},
     "output_type": "execute_result"
    }
   ],
   "source": [
    "r.to_bytes"
   ]
  },
  {
   "cell_type": "markdown",
   "id": "89516a9a-5b59-4a45-8d93-96e97b03cb46",
   "metadata": {},
   "source": [
    "## 7、数值型对象：整数、浮点数和复数<a id=\"py7\"></a>"
   ]
  },
  {
   "cell_type": "code",
   "execution_count": 14,
   "id": "787838a5-c7f7-4625-9ef3-863089b636df",
   "metadata": {},
   "outputs": [
    {
     "name": "stdout",
     "output_type": "stream",
     "text": [
      "type a: <class 'int'>\n",
      "type b: <class 'float'>\n",
      "type c: <class 'complex'>\n",
      "type d: <class 'int'>\n",
      "8.14\n",
      "1.8599999999999999\n",
      "15.700000000000001\n",
      "1.592356687898089\n",
      "125\n",
      "2\n",
      "1\n"
     ]
    }
   ],
   "source": [
    "# 定义a,b,c,d四个变量\n",
    "a = 5\n",
    "b = 3.14\n",
    "c = 1 + 3j\n",
    "d = 2\n",
    "print(\"type a:\", type(a))\n",
    "print(\"type b:\", type(b))\n",
    "print(\"type c:\", type(c))\n",
    "print(\"type d:\", type(d))\n",
    "\n",
    "# 加、减、乘、除、幂、取整、取余\n",
    "print(a + b)\n",
    "print(a - b)\n",
    "print(a * b)\n",
    "print(a / b)\n",
    "print(a ** 3)\n",
    "print(a // d)\n",
    "print(a % d)"
   ]
  },
  {
   "cell_type": "markdown",
   "id": "8f00d10c-3683-4331-a316-b2fb84951735",
   "metadata": {},
   "source": [
    "## 8、内置的常用科学计算函数<a id=\"py8\"></a>\n",
    "\n",
    "max(), min(), round(), abs()，具体使用可使用`函数名?`的形式查询。"
   ]
  },
  {
   "cell_type": "code",
   "execution_count": 15,
   "id": "e0f15175-9204-4067-b39f-2a8bb3e806b4",
   "metadata": {},
   "outputs": [
    {
     "name": "stdout",
     "output_type": "stream",
     "text": [
      "3\n"
     ]
    },
    {
     "data": {
      "text/plain": [
       "\u001b[0;31mDocstring:\u001b[0m\n",
       "max(iterable, *[, default=obj, key=func]) -> value\n",
       "max(arg1, arg2, *args, *[, key=func]) -> value\n",
       "\n",
       "With a single iterable argument, return its biggest item. The\n",
       "default keyword-only argument specifies an object to return if\n",
       "the provided iterable is empty.\n",
       "With two or more arguments, return the largest argument.\n",
       "\u001b[0;31mType:\u001b[0m      builtin_function_or_method"
      ]
     },
     "metadata": {},
     "output_type": "display_data"
    }
   ],
   "source": [
    "# 求最大值\n",
    "print(max(2,3,1,0,-0.5))\n",
    "\n",
    "# 使用查询\n",
    "max?"
   ]
  },
  {
   "cell_type": "markdown",
   "id": "9723b811-de0e-4e3d-ace2-a794909dc550",
   "metadata": {},
   "source": [
    "## 9、numpy、scipy库中常用的科学计算相关的函数<a id=\"py9\"></a>\n",
    "sqrt(), sin(), exp(), log(), power()"
   ]
  },
  {
   "cell_type": "code",
   "execution_count": 16,
   "id": "6f78a808-33f3-4a8b-afec-a8fd76b1e83e",
   "metadata": {},
   "outputs": [
    {
     "name": "stdout",
     "output_type": "stream",
     "text": [
      "1.0\n",
      "7.38905609893065\n",
      "0.9092974268256817\n"
     ]
    }
   ],
   "source": [
    "import numpy as np\n",
    "\n",
    "# e^0\n",
    "print(np.exp(0))\n",
    "# e^2\n",
    "print(np.exp(2))\n",
    "# sin(2)\n",
    "print(np.sin(2))"
   ]
  },
  {
   "cell_type": "markdown",
   "id": "8fd32c07-4c33-4092-9f38-7fe67f266c80",
   "metadata": {},
   "source": [
    "## 10、布尔值：True 和 False<a id=\"py10\"></a>\n",
    "\n",
    "用于表示逻辑上的真和假。"
   ]
  },
  {
   "cell_type": "code",
   "execution_count": 17,
   "id": "e7a39ac6-c26f-4191-86a7-9e561f6eb094",
   "metadata": {},
   "outputs": [],
   "source": [
    "a = 1\n",
    "b = 2"
   ]
  },
  {
   "cell_type": "code",
   "execution_count": 18,
   "id": "72b26606-8118-4f7c-8202-1453aef568cc",
   "metadata": {},
   "outputs": [
    {
     "data": {
      "text/plain": [
       "False"
      ]
     },
     "execution_count": 18,
     "metadata": {},
     "output_type": "execute_result"
    }
   ],
   "source": [
    "a > b"
   ]
  },
  {
   "cell_type": "code",
   "execution_count": 19,
   "id": "4f46b442-1ec1-42dc-a50f-f5bc225da28d",
   "metadata": {},
   "outputs": [
    {
     "data": {
      "text/plain": [
       "True"
      ]
     },
     "execution_count": 19,
     "metadata": {},
     "output_type": "execute_result"
    }
   ],
   "source": [
    "a < b"
   ]
  },
  {
   "cell_type": "code",
   "execution_count": 20,
   "id": "5603c9bd-085b-4e85-913c-41ac2a161742",
   "metadata": {},
   "outputs": [
    {
     "data": {
      "text/plain": [
       "True"
      ]
     },
     "execution_count": 20,
     "metadata": {},
     "output_type": "execute_result"
    }
   ],
   "source": [
    "1 == True"
   ]
  },
  {
   "cell_type": "code",
   "execution_count": 21,
   "id": "28b25b6d-b941-4663-abf8-b5c3d29233d3",
   "metadata": {},
   "outputs": [
    {
     "data": {
      "text/plain": [
       "True"
      ]
     },
     "execution_count": 21,
     "metadata": {},
     "output_type": "execute_result"
    }
   ],
   "source": [
    "0 == False"
   ]
  },
  {
   "cell_type": "code",
   "execution_count": 22,
   "id": "3019f966-957d-44e6-a114-b0a72e9c93d1",
   "metadata": {},
   "outputs": [
    {
     "data": {
      "text/plain": [
       "0"
      ]
     },
     "execution_count": 22,
     "metadata": {},
     "output_type": "execute_result"
    }
   ],
   "source": [
    "1 and 0"
   ]
  },
  {
   "cell_type": "code",
   "execution_count": 23,
   "id": "96daec56-5d08-4e6c-b2cf-1553534a3867",
   "metadata": {},
   "outputs": [
    {
     "data": {
      "text/plain": [
       "1"
      ]
     },
     "execution_count": 23,
     "metadata": {},
     "output_type": "execute_result"
    }
   ],
   "source": [
    "1 or 0"
   ]
  },
  {
   "cell_type": "code",
   "execution_count": 24,
   "id": "cf3027b4-eaa2-4b17-b246-5f10e0ff6790",
   "metadata": {},
   "outputs": [
    {
     "data": {
      "text/plain": [
       "True"
      ]
     },
     "execution_count": 24,
     "metadata": {},
     "output_type": "execute_result"
    }
   ],
   "source": [
    "not 0"
   ]
  },
  {
   "cell_type": "code",
   "execution_count": 25,
   "id": "6343f756-f24c-41b2-80a7-1fe27688ec55",
   "metadata": {},
   "outputs": [
    {
     "data": {
      "text/plain": [
       "False"
      ]
     },
     "execution_count": 25,
     "metadata": {},
     "output_type": "execute_result"
    }
   ],
   "source": [
    "not 1"
   ]
  },
  {
   "cell_type": "markdown",
   "id": "ced4646c-ab64-4733-ae2a-5b2c046c49a2",
   "metadata": {},
   "source": [
    "## 11、字符串对象：3种创建形式及常见操作<a id=\"py11\"></a>\n",
    "\n",
    "### 创建形式\n",
    "- 单引号创建\n",
    "- 双引号创建\n",
    "- 三组引号创建\n",
    "\n",
    "### 常见操作：索引、切片(左闭右开)\n",
    "\n",
    "### 常用方法：lower(), upper(), strip(), split()"
   ]
  },
  {
   "cell_type": "code",
   "execution_count": 26,
   "id": "f197095e-ac99-46bb-8182-ea174bb908ea",
   "metadata": {},
   "outputs": [
    {
     "name": "stdout",
     "output_type": "stream",
     "text": [
      "length of s:  12\n",
      "H o d l\n",
      "llo\n",
      "llo, world\n",
      "s[1: 10: 2] =  el,wr\n"
     ]
    }
   ],
   "source": [
    "s = \"Hello, world\"\n",
    "\n",
    "print(\"length of s: \", len(s))\n",
    "\n",
    "# 索引\n",
    "print(s[0], s[4], s[-1], s[-2])\n",
    "\n",
    "# 切片\n",
    "print(s[2:5])\n",
    "print(s[2:])\n",
    "\n",
    "# 每隔两个数取一个 \n",
    "print(\"s[1: 10: 2] = \", s[1: 10: 2])"
   ]
  },
  {
   "cell_type": "code",
   "execution_count": 27,
   "id": "1e871cb8-73c5-4624-9797-ebcb3d9c89fa",
   "metadata": {},
   "outputs": [
    {
     "name": "stdout",
     "output_type": "stream",
     "text": [
      "Hlo ol\n"
     ]
    }
   ],
   "source": [
    "# 取奇数位\n",
    "print(s[: : 2])"
   ]
  },
  {
   "cell_type": "code",
   "execution_count": 28,
   "id": "df0b6012-87d8-46a2-a046-fa06ed5e8731",
   "metadata": {},
   "outputs": [],
   "source": [
    "ss = ' hello, world '"
   ]
  },
  {
   "cell_type": "code",
   "execution_count": 29,
   "id": "85fff001-5a2c-481b-b9f6-6bfa0666892c",
   "metadata": {},
   "outputs": [
    {
     "data": {
      "text/plain": [
       "' hello, world '"
      ]
     },
     "execution_count": 29,
     "metadata": {},
     "output_type": "execute_result"
    }
   ],
   "source": [
    "# 字符串中字母全部小写\n",
    "ss.lower()"
   ]
  },
  {
   "cell_type": "code",
   "execution_count": 30,
   "id": "40299eba-dda9-449c-80b1-322f3295bb73",
   "metadata": {},
   "outputs": [
    {
     "data": {
      "text/plain": [
       "' HELLO, WORLD '"
      ]
     },
     "execution_count": 30,
     "metadata": {},
     "output_type": "execute_result"
    }
   ],
   "source": [
    "# 字符串中字母全部大写\n",
    "ss.upper()"
   ]
  },
  {
   "cell_type": "code",
   "execution_count": 31,
   "id": "3efb3afa-d5c5-42e2-9bdc-38fe3ab3f6f1",
   "metadata": {},
   "outputs": [
    {
     "data": {
      "text/plain": [
       "[' hello', ' world ']"
      ]
     },
     "execution_count": 31,
     "metadata": {},
     "output_type": "execute_result"
    }
   ],
   "source": [
    "ss.split(\",\")"
   ]
  },
  {
   "cell_type": "code",
   "execution_count": 32,
   "id": "cb2299b6-c311-436d-b8de-d839e38b8bc2",
   "metadata": {},
   "outputs": [
    {
     "data": {
      "text/plain": [
       "'hello, world'"
      ]
     },
     "execution_count": 32,
     "metadata": {},
     "output_type": "execute_result"
    }
   ],
   "source": [
    "ss.strip()"
   ]
  },
  {
   "cell_type": "markdown",
   "id": "ecbc31c9-144e-4cec-978c-c9dc2ae18965",
   "metadata": {},
   "source": [
    "## 12、列表：一个列表中可以包括1个或多个对象，每个对象称为一个元素。<a id=\"py12\"></a>\n",
    "- 创建：list() 或 []\n",
    "- 索引\n",
    "- 切片\n",
    "- 常用方法：+， append(), pop(), insert(), remove(), extend(), del(), clear()"
   ]
  },
  {
   "cell_type": "code",
   "execution_count": 33,
   "id": "09123635-2102-4ce9-b9a6-11b2e9d145b3",
   "metadata": {},
   "outputs": [
    {
     "name": "stdout",
     "output_type": "stream",
     "text": [
      "L1:  [1, 'hello', True, [1, 3, 4]]\n",
      "L2:  [0, 1, 2, 3, 4, 5, 6, 7, 8, 9]\n"
     ]
    }
   ],
   "source": [
    "# 创建具有4个元素的列表\n",
    "L1 = [1, \"hello\", True, [1, 3, 4]]\n",
    "print(\"L1: \", L1)\n",
    "# 使用list创建包括10个整数的列表\n",
    "L2 = list(range(10))\n",
    "print(\"L2: \", L2)"
   ]
  },
  {
   "cell_type": "code",
   "execution_count": 34,
   "id": "008674b6-d618-4ae9-bb95-c06dbd76071f",
   "metadata": {},
   "outputs": [
    {
     "name": "stdout",
     "output_type": "stream",
     "text": [
      "4\n"
     ]
    }
   ],
   "source": [
    "# L1的长度\n",
    "print(len(L1))"
   ]
  },
  {
   "cell_type": "code",
   "execution_count": 35,
   "id": "fcc6a414-8b14-4447-90de-7b1412dffdf0",
   "metadata": {},
   "outputs": [
    {
     "name": "stdout",
     "output_type": "stream",
     "text": [
      "hello [1, 3, 4]\n"
     ]
    }
   ],
   "source": [
    "# 索引\n",
    "print(L1[1], L1[-1])"
   ]
  },
  {
   "cell_type": "code",
   "execution_count": 36,
   "id": "0c7640ad-8a30-429c-9efd-16ebc6b0b21e",
   "metadata": {},
   "outputs": [
    {
     "name": "stdout",
     "output_type": "stream",
     "text": [
      "['hello', True]\n"
     ]
    }
   ],
   "source": [
    "# 切片\n",
    "print(L1[1:3])"
   ]
  },
  {
   "cell_type": "code",
   "execution_count": 37,
   "id": "f040fb6c-e128-4c8d-a0ba-d17e877a70e5",
   "metadata": {},
   "outputs": [
    {
     "data": {
      "text/plain": [
       "[1, 'hello', True, [1, 3, 4], 0, 1, 2, 3, 4, 5, 6, 7, 8, 9]"
      ]
     },
     "execution_count": 37,
     "metadata": {},
     "output_type": "execute_result"
    }
   ],
   "source": [
    "L1 + L2"
   ]
  },
  {
   "cell_type": "code",
   "execution_count": 38,
   "id": "ad82a5f1-2cc2-4e30-8430-85094387987b",
   "metadata": {},
   "outputs": [
    {
     "name": "stdout",
     "output_type": "stream",
     "text": [
      "[1, 'hello', True, [1, 3, 4], 0]\n"
     ]
    }
   ],
   "source": [
    "# 常用方法\n",
    "L1.append(0)\n",
    "print(L1)"
   ]
  },
  {
   "cell_type": "code",
   "execution_count": 39,
   "id": "75dd7844-1999-4bbc-9d5b-92635d519069",
   "metadata": {},
   "outputs": [
    {
     "name": "stdout",
     "output_type": "stream",
     "text": [
      "0\n",
      "[1, 'hello', True, [1, 3, 4]]\n"
     ]
    }
   ],
   "source": [
    "# 常用方法\n",
    "print(L1.pop())\n",
    "print(L1)"
   ]
  },
  {
   "cell_type": "code",
   "execution_count": 40,
   "id": "e8253eda-7186-4225-9da5-a8fe4b63324e",
   "metadata": {},
   "outputs": [
    {
     "name": "stdout",
     "output_type": "stream",
     "text": [
      "[1, 'hello', [1, 3, 4]]\n"
     ]
    }
   ],
   "source": [
    "# 常用方法\n",
    "del L1[2]\n",
    "print(L1)"
   ]
  },
  {
   "cell_type": "markdown",
   "id": "e539e849-1ca6-4266-aea5-702f3b77ec71",
   "metadata": {},
   "source": [
    "## 13、元组<a id=\"py13\"></a>\n",
    "元组与列表的类似，列表的大部分方法（索引与切片）都可适用于元组。但需要注意元组的不可变性。"
   ]
  },
  {
   "cell_type": "code",
   "execution_count": 41,
   "id": "ba448cc2-edac-4408-b413-0c76d95773e9",
   "metadata": {},
   "outputs": [
    {
     "name": "stdout",
     "output_type": "stream",
     "text": [
      "(1, 2, 3, 4, 5)\n"
     ]
    }
   ],
   "source": [
    "# 使用小括号来创建元组\n",
    "t = (1, 2, 3, 4, 5)\n",
    "print(t)"
   ]
  },
  {
   "cell_type": "code",
   "execution_count": 42,
   "id": "e65d75be-16f6-46fb-b70f-0c98fbf43218",
   "metadata": {},
   "outputs": [
    {
     "data": {
      "text/plain": [
       "tuple"
      ]
     },
     "execution_count": 42,
     "metadata": {},
     "output_type": "execute_result"
    }
   ],
   "source": [
    "# t的类型：tuple表示元组\n",
    "type(t)"
   ]
  },
  {
   "cell_type": "code",
   "execution_count": 43,
   "id": "12cb762e-fcf3-4780-bde5-a285a99f6244",
   "metadata": {},
   "outputs": [
    {
     "data": {
      "text/plain": [
       "1"
      ]
     },
     "execution_count": 43,
     "metadata": {},
     "output_type": "execute_result"
    }
   ],
   "source": [
    "# 索引\n",
    "t[0]"
   ]
  },
  {
   "cell_type": "code",
   "execution_count": 44,
   "id": "f6fc8c2b-858c-436f-af46-02eab9966dce",
   "metadata": {},
   "outputs": [
    {
     "ename": "TypeError",
     "evalue": "'tuple' object does not support item assignment",
     "output_type": "error",
     "traceback": [
      "\u001b[0;31m---------------------------------------------------------------------------\u001b[0m",
      "\u001b[0;31mTypeError\u001b[0m                                 Traceback (most recent call last)",
      "Cell \u001b[0;32mIn[44], line 2\u001b[0m\n\u001b[1;32m      1\u001b[0m \u001b[38;5;66;03m# 元素不可修改\u001b[39;00m\n\u001b[0;32m----> 2\u001b[0m t[\u001b[38;5;241m0\u001b[39m] \u001b[38;5;241m=\u001b[39m \u001b[38;5;241m2\u001b[39m\n",
      "\u001b[0;31mTypeError\u001b[0m: 'tuple' object does not support item assignment"
     ]
    }
   ],
   "source": [
    "# 元素不可修改\n",
    "t[0] = 2"
   ]
  },
  {
   "cell_type": "markdown",
   "id": "d31c9b49-123b-4f94-bdd2-082aaa9d100e",
   "metadata": {},
   "source": [
    "## 14、字典：列表是有序的可变容器，元组是有序的不可变容器，而字典则是无序的可变容器。<a id=\"py14\"></a>\n",
    "\n",
    "字典由键（key）和对应值（value）成对组成的特殊元素构成，外侧则使用大括号圈定。如：\n",
    "d = {'steven': 28, 'alice': 26, 'C': 3}\n",
    "\n",
    "- 创建：一般创建法，使用dict函数创建\n",
    "- 索引：通过输入Key来查找对应的Value，而非利用索引值进行索引\n",
    "- 常用方法： get()，keys()， values()， items()"
   ]
  },
  {
   "cell_type": "code",
   "execution_count": null,
   "id": "58dfecbd-60a8-4b34-8280-15594d40db05",
   "metadata": {},
   "outputs": [],
   "source": [
    "# 一般创建法\n",
    "d = {'steven': 28, 'alice': 26, 'C': 3}\n",
    "type(d)"
   ]
  },
  {
   "cell_type": "code",
   "execution_count": null,
   "id": "6ab0267f-11ba-488a-9e21-fd77fac29d59",
   "metadata": {},
   "outputs": [],
   "source": [
    "# dict函数创建: 需要使用长度为2的元组组成的列表\n",
    "d = dict([(1, 4), (2, 3)])\n",
    "d"
   ]
  },
  {
   "cell_type": "code",
   "execution_count": 45,
   "id": "e76cdcfd-97b0-4f04-9e02-c5ee49260ce7",
   "metadata": {},
   "outputs": [
    {
     "name": "stdout",
     "output_type": "stream",
     "text": [
      "1\n",
      "3\n",
      "None\n"
     ]
    },
    {
     "ename": "KeyError",
     "evalue": "'D'",
     "output_type": "error",
     "traceback": [
      "\u001b[0;31m---------------------------------------------------------------------------\u001b[0m",
      "\u001b[0;31mKeyError\u001b[0m                                  Traceback (most recent call last)",
      "Cell \u001b[0;32mIn[45], line 9\u001b[0m\n\u001b[1;32m      7\u001b[0m \u001b[38;5;28mprint\u001b[39m(d\u001b[38;5;241m.\u001b[39mget(\u001b[38;5;124m'\u001b[39m\u001b[38;5;124mD\u001b[39m\u001b[38;5;124m'\u001b[39m))\n\u001b[1;32m      8\u001b[0m \u001b[38;5;66;03m# 当对应Key不存在时，会报错\u001b[39;00m\n\u001b[0;32m----> 9\u001b[0m \u001b[38;5;28mprint\u001b[39m(\u001b[43md\u001b[49m\u001b[43m[\u001b[49m\u001b[38;5;124;43m'\u001b[39;49m\u001b[38;5;124;43mD\u001b[39;49m\u001b[38;5;124;43m'\u001b[39;49m\u001b[43m]\u001b[49m)\n",
      "\u001b[0;31mKeyError\u001b[0m: 'D'"
     ]
    }
   ],
   "source": [
    "d = {'A': 1, 'B': 2, 'C': 3}\n",
    "\n",
    "# 索引\n",
    "print(d['A'])\n",
    "# 当对应Key不存在时，不会返回任何结果\n",
    "print(d.get('C'))\n",
    "print(d.get('D'))\n",
    "# 当对应Key不存在时，会报错\n",
    "print(d['D'])"
   ]
  },
  {
   "cell_type": "code",
   "execution_count": 46,
   "id": "635b2d15-63bb-4733-a52d-b960cfa89013",
   "metadata": {},
   "outputs": [
    {
     "data": {
      "text/plain": [
       "dict_keys(['A', 'B', 'C'])"
      ]
     },
     "execution_count": 46,
     "metadata": {},
     "output_type": "execute_result"
    }
   ],
   "source": [
    "# 获取keys\n",
    "d.keys()"
   ]
  },
  {
   "cell_type": "code",
   "execution_count": 47,
   "id": "b7778f7c-805f-4c69-8332-ada81b7d394a",
   "metadata": {},
   "outputs": [
    {
     "data": {
      "text/plain": [
       "dict_values([1, 2, 3])"
      ]
     },
     "execution_count": 47,
     "metadata": {},
     "output_type": "execute_result"
    }
   ],
   "source": [
    "# 获取values\n",
    "d.values()"
   ]
  },
  {
   "cell_type": "markdown",
   "id": "8d90eb0a-63f9-4f42-9998-d176826b5f78",
   "metadata": {},
   "source": [
    "## 15、控制结构<a id=\"py15\"></a>\n",
    "- if-else\n",
    "- if-elif-else\n",
    "- for循环\n",
    "- while循环"
   ]
  },
  {
   "cell_type": "code",
   "execution_count": 48,
   "id": "47bbabb0-9b9f-4e9c-9dfb-08e74e1cfaf7",
   "metadata": {},
   "outputs": [
    {
     "name": "stdout",
     "output_type": "stream",
     "text": [
      "a大于1!\n"
     ]
    }
   ],
   "source": [
    "# if-else\n",
    "a = 2\n",
    "if a > 1:\n",
    "    print(\"a大于1!\")\n",
    "else:\n",
    "    print(\"a不大于1！\")"
   ]
  },
  {
   "cell_type": "code",
   "execution_count": 49,
   "id": "0050e91d-eb1b-44cc-931f-0a55f710a22b",
   "metadata": {},
   "outputs": [
    {
     "name": "stdout",
     "output_type": "stream",
     "text": [
      "teenager\n"
     ]
    }
   ],
   "source": [
    "# if-elif-else\n",
    "age = 20\n",
    "if age >= 6:\n",
    "    print('teenager')\n",
    "elif age >= 18:\n",
    "    print('adult')\n",
    "else:\n",
    "    print('kid')"
   ]
  },
  {
   "cell_type": "code",
   "execution_count": 50,
   "id": "905eacf2-b912-4497-8aee-c7301d163856",
   "metadata": {},
   "outputs": [
    {
     "name": "stdout",
     "output_type": "stream",
     "text": [
      "[2, 4, 6, 8]\n"
     ]
    }
   ],
   "source": [
    "# for循环\n",
    "\"\"\"\n",
    " for循环是最常见的循环结构，其基本语法结构为：\n",
    "\n",
    "for <临时变量> in <容器>:\n",
    "    <表达式>\n",
    "\"\"\"\n",
    "\n",
    "l = [1, 3, 5, 7]\n",
    "for i in range(len(l)):\n",
    "    l[i] += 1\n",
    "print(l)"
   ]
  },
  {
   "cell_type": "code",
   "execution_count": 51,
   "id": "6d8de41a-8532-4b3f-b0f0-2e05e8bffd5d",
   "metadata": {},
   "outputs": [
    {
     "name": "stdout",
     "output_type": "stream",
     "text": [
      "[3, 5, 8, 8]\n"
     ]
    }
   ],
   "source": [
    "# for循环, break结构\n",
    "for i in range(len(l)):\n",
    "    if i <= 1:\n",
    "        l[i] += 1\n",
    "    elif i == 2:\n",
    "        l[i] += 2\n",
    "    else:\n",
    "        break\n",
    "print(l)"
   ]
  },
  {
   "cell_type": "code",
   "execution_count": 52,
   "id": "61b80ce4-5dde-4c3f-9a19-0d939e2b2113",
   "metadata": {},
   "outputs": [
    {
     "name": "stdout",
     "output_type": "stream",
     "text": [
      "sum_i的值是: 5050\n"
     ]
    }
   ],
   "source": [
    "# while循环\n",
    "\"\"\"\n",
    "1.while循环基本结构 \n",
    "  while循环的基本结构为：\n",
    "\n",
    "while <判别语句>:\n",
    "    <表达式>\n",
    "\"\"\"\n",
    "\n",
    "i = 1\n",
    "sum_i = 0                    \n",
    "while i <= 100:\n",
    "    sum_i += i\n",
    "    \n",
    "    i += 1\n",
    "print('sum_i的值是:', sum_i)"
   ]
  },
  {
   "cell_type": "markdown",
   "id": "0ca0d941-cdaa-4ef8-9e1b-6b531595d90a",
   "metadata": {},
   "source": [
    "## 16、函数<a id=\"py16\"></a>\n",
    "在Python中，定义一个函数要使用def语句，依次写出函数名、括号、括号中的参数和冒号:，然后，在缩进块中编写函数体，函数的返回值用return语句返回。\n",
    "\n",
    "- 返回单个值\n",
    "- 返回多个值\n",
    "- 空函数\n",
    "- 可变长参数\n",
    "- 可变长关键字参数\n",
    "- 参数顺序问题"
   ]
  },
  {
   "cell_type": "code",
   "execution_count": 53,
   "id": "b02fbf03-46ba-49f6-9d0a-6514aa8e68c2",
   "metadata": {},
   "outputs": [
    {
     "name": "stdout",
     "output_type": "stream",
     "text": [
      "5.5\n",
      "5.5\n"
     ]
    }
   ],
   "source": [
    "# 例1: 两个数求和，返回一个值\n",
    "def sum_1(a, b):\n",
    "    \"\"\"让输入的两个对象利用加号运算符进行相加\n",
    "    参数：\n",
    "    a：函数输入的第一个对象\n",
    "    b：函数输入的第二个对象\n",
    "    return，返回a+b的结果\n",
    "    \"\"\"\n",
    "    c = a + b               \n",
    "    return(c)   \n",
    "\n",
    "print(sum_1(2, 3.5))\n",
    "print(sum_1(a = 2, b = 3.5))"
   ]
  },
  {
   "cell_type": "code",
   "execution_count": 54,
   "id": "30a772bb-f096-4c86-839a-319a09f53fd6",
   "metadata": {},
   "outputs": [
    {
     "data": {
      "text/plain": [
       "(13, -6)"
      ]
     },
     "execution_count": 54,
     "metadata": {},
     "output_type": "execute_result"
    }
   ],
   "source": [
    "# 例2: 返回列表中的最大值与最小值，返回多个值\n",
    "def max_min(L):\n",
    "    return max(L), min(L)\n",
    "\n",
    "L = [-6, 9, 2, 1, 0, 13]\n",
    "max_min(L)"
   ]
  },
  {
   "cell_type": "code",
   "execution_count": 55,
   "id": "ea16cd6d-ef7e-4233-8a9f-df3269c4e6bd",
   "metadata": {},
   "outputs": [],
   "source": [
    "# 定义空函数：如果想定义一个空函数，可以用pass语句：\n",
    "def nop():\n",
    "    pass\n",
    "\n",
    "nop()"
   ]
  },
  {
   "cell_type": "code",
   "execution_count": 56,
   "id": "804ff75c-9d6e-4c4b-9bc5-0e5e04cae413",
   "metadata": {},
   "outputs": [],
   "source": [
    "# 可变长参数: python中使用一个星号标注可变长参数，此时，传入的多个参数将被封装为一个元组传入函数内：\n",
    "def sum_2(*num):              \n",
    "    r = 0\n",
    "    for i in num:              \n",
    "        r += i\n",
    "    return(r)"
   ]
  },
  {
   "cell_type": "code",
   "execution_count": 57,
   "id": "dc94709a-697e-4f28-8391-d072652f9c59",
   "metadata": {},
   "outputs": [
    {
     "data": {
      "text/plain": [
       "6"
      ]
     },
     "execution_count": 57,
     "metadata": {},
     "output_type": "execute_result"
    }
   ],
   "source": [
    "sum_2(1, 2, 3)                 # 该参数位上可传入多个参数，最后封装为一个元组传入函数"
   ]
  },
  {
   "cell_type": "code",
   "execution_count": 58,
   "id": "e23ff216-c7c6-4cc9-b647-fe2ade347ed7",
   "metadata": {},
   "outputs": [
    {
     "data": {
      "text/plain": [
       "21"
      ]
     },
     "execution_count": 58,
     "metadata": {},
     "output_type": "execute_result"
    }
   ],
   "source": [
    "sum_2(1, 2, 3, 4, 5, 6)"
   ]
  },
  {
   "cell_type": "code",
   "execution_count": 59,
   "id": "8e5f34ad-b52d-429f-bc24-ab70270a6440",
   "metadata": {},
   "outputs": [],
   "source": [
    "# 对于同时带有参数名和实际传入对象的关键字参数，也可一次性传入多个，即可变长关键字参数。\n",
    "# 与可变长参数不同，可变长关键字参数需要用两个星号来进行说明，同时实际传入过程是python会将其转化为字典进行传入：\n",
    "def kw(**dic):\n",
    "    return(dic)"
   ]
  },
  {
   "cell_type": "code",
   "execution_count": 60,
   "id": "d796f6c4-f368-4d9a-9ba5-9fd65a9c89a3",
   "metadata": {},
   "outputs": [
    {
     "data": {
      "text/plain": [
       "{'a': 1, 'b': 2, 'c': 3}"
      ]
     },
     "execution_count": 60,
     "metadata": {},
     "output_type": "execute_result"
    }
   ],
   "source": [
    "kw(a=1, b=2, c=3)"
   ]
  },
  {
   "cell_type": "code",
   "execution_count": 61,
   "id": "e9276bbe-9d37-418e-865f-1c85a397cffd",
   "metadata": {},
   "outputs": [],
   "source": [
    "def student(name, **interest):\n",
    "    print('name:', name, 'interest:', interest)"
   ]
  },
  {
   "cell_type": "code",
   "execution_count": 62,
   "id": "9fb059e3-a574-4b6a-be62-708b8230ae9f",
   "metadata": {},
   "outputs": [
    {
     "name": "stdout",
     "output_type": "stream",
     "text": [
      "name: nangong interest: {'sport': 'walking'}\n"
     ]
    }
   ],
   "source": [
    "student('nangong', sport='walking')"
   ]
  },
  {
   "cell_type": "code",
   "execution_count": 63,
   "id": "465ac29a-8d4d-4753-8244-cb8a987bbbff",
   "metadata": {},
   "outputs": [],
   "source": [
    "# 面对这么多种类型的参数，在创建函数时，一定要注意参数顺序，一般来说，要求按照必要参数->可选参数->可变长参数->可变长关键字顺序设置参数。\n",
    "def test(a, b, *args, **kwargs):\n",
    "    print (\"a =\", a)\n",
    "    print (\"b =\", b) \n",
    "    print (\"args =\", args)\n",
    "    print (\"kwargs: \", kwargs)"
   ]
  },
  {
   "cell_type": "code",
   "execution_count": 64,
   "id": "be4352b9-cd63-47f7-b6df-a3135770f9e2",
   "metadata": {},
   "outputs": [
    {
     "name": "stdout",
     "output_type": "stream",
     "text": [
      "a = 1\n",
      "b = 2\n",
      "args = (2, 2, 2)\n",
      "kwargs:  {}\n"
     ]
    }
   ],
   "source": [
    "test(1, 2, 2, 2, 2)"
   ]
  },
  {
   "cell_type": "code",
   "execution_count": 65,
   "id": "35c5a81b-0a52-4161-a40b-6b8231b469b2",
   "metadata": {},
   "outputs": [
    {
     "name": "stdout",
     "output_type": "stream",
     "text": [
      "a = 1\n",
      "b = 2\n",
      "args = (2, 2, 2)\n",
      "kwargs:  {'c': 3, 'd': 3}\n"
     ]
    }
   ],
   "source": [
    "test(1, 2, 2, 2, 2, c=3, d=3)"
   ]
  },
  {
   "cell_type": "code",
   "execution_count": null,
   "id": "212d3d38-9b0f-4a51-a6f5-da2097122c65",
   "metadata": {},
   "outputs": [],
   "source": []
  },
  {
   "cell_type": "code",
   "execution_count": null,
   "id": "c08c3d74-e026-4a38-8127-a7fb3c03f188",
   "metadata": {},
   "outputs": [],
   "source": []
  },
  {
   "cell_type": "code",
   "execution_count": null,
   "id": "34bdc090-144e-4b64-9837-f22e18f2e4a9",
   "metadata": {},
   "outputs": [],
   "source": []
  },
  {
   "cell_type": "code",
   "execution_count": null,
   "id": "aa4d95ee-218c-4ef1-b332-a2881d61a5c8",
   "metadata": {},
   "outputs": [],
   "source": []
  },
  {
   "cell_type": "code",
   "execution_count": null,
   "id": "e60e4c5a-356d-4965-9a81-b347d2d43837",
   "metadata": {},
   "outputs": [],
   "source": []
  },
  {
   "cell_type": "code",
   "execution_count": null,
   "id": "381f172b-2e0a-4845-a38e-738f9b739416",
   "metadata": {},
   "outputs": [],
   "source": []
  },
  {
   "cell_type": "code",
   "execution_count": null,
   "id": "66951356-23ed-4279-b3f9-3720114c66b7",
   "metadata": {},
   "outputs": [],
   "source": []
  }
 ],
 "metadata": {
  "kernelspec": {
   "display_name": "Python 3 (ipykernel)",
   "language": "python",
   "name": "python3"
  },
  "language_info": {
   "codemirror_mode": {
    "name": "ipython",
    "version": 3
   },
   "file_extension": ".py",
   "mimetype": "text/x-python",
   "name": "python",
   "nbconvert_exporter": "python",
   "pygments_lexer": "ipython3",
   "version": "3.9.18"
  }
 },
 "nbformat": 4,
 "nbformat_minor": 5
}
