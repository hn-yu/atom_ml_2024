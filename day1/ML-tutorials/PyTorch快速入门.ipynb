{
 "cells": [
  {
   "cell_type": "markdown",
   "id": "1488c68a-93e8-4236-b3c1-70a2e0cc78a8",
   "metadata": {},
   "source": [
    "# PyTorch快速入门\n",
    "\n",
    "## PyTorch简介\n",
    "PyTorch 是一个由 Facebook 于 2016 年推出的基于Python的开源机器学习和深度学习框架。现如今，Pytorch已经成为开源机器学习框架中，在科研领域市场占有率最高的框架，其在AI顶会上的占比在2022年已达80％。目前，许多深度学习软件和项目，如 Tesla Autopilot、Hugging Face 的 Transformers等，都是基于 PyTorch 开发的。\n",
    "\n",
    "PyTorch 的两大核心特性是：\n",
    "\n",
    "- 张量计算：性能与 NumPy 相当，并可以通过 GPU 加速以提高计算效率。\n",
    "- 自动微分：使用户能够轻松地构建和训练深度神经网络。\n",
    "\n",
    "## 1. 安装 PyTorch\n",
    "在开始之前，请确保您已经安装了 PyTorch。您可以从 [PyTorch 官网](https://pytorch.org/get-started/locally/) 获取安装说明。\n",
    "\n",
    "![pytorch下载](pytorch下载.png)"
   ]
  },
  {
   "cell_type": "code",
   "execution_count": 1,
   "id": "62219bb4-fe5d-4339-9c3b-e990e2c8a6ed",
   "metadata": {},
   "outputs": [
    {
     "name": "stdout",
     "output_type": "stream",
     "text": [
      "Looking in indexes: https://download.pytorch.org/whl/cu118\n",
      "Requirement already satisfied: torch in /opt/tefscloud/miniconda3/lib/python3.9/site-packages (2.3.1)\n",
      "Requirement already satisfied: torchvision in /opt/tefscloud/miniconda3/lib/python3.9/site-packages (0.18.1)\n",
      "Requirement already satisfied: torchaudio in /opt/tefscloud/miniconda3/lib/python3.9/site-packages (2.3.1)\n",
      "Requirement already satisfied: nvidia-nvtx-cu12==12.1.105 in /opt/tefscloud/miniconda3/lib/python3.9/site-packages (from torch) (12.1.105)\n",
      "Requirement already satisfied: sympy in /opt/tefscloud/miniconda3/lib/python3.9/site-packages (from torch) (1.12.1)\n",
      "Requirement already satisfied: nvidia-cuda-cupti-cu12==12.1.105 in /opt/tefscloud/miniconda3/lib/python3.9/site-packages (from torch) (12.1.105)\n",
      "Requirement already satisfied: nvidia-cuda-nvrtc-cu12==12.1.105 in /opt/tefscloud/miniconda3/lib/python3.9/site-packages (from torch) (12.1.105)\n",
      "Requirement already satisfied: nvidia-cufft-cu12==11.0.2.54 in /opt/tefscloud/miniconda3/lib/python3.9/site-packages (from torch) (11.0.2.54)\n",
      "Requirement already satisfied: nvidia-cuda-runtime-cu12==12.1.105 in /opt/tefscloud/miniconda3/lib/python3.9/site-packages (from torch) (12.1.105)\n",
      "Requirement already satisfied: jinja2 in /opt/tefscloud/miniconda3/lib/python3.9/site-packages (from torch) (3.1.3)\n",
      "Requirement already satisfied: filelock in /opt/tefscloud/miniconda3/lib/python3.9/site-packages (from torch) (3.14.0)\n",
      "Requirement already satisfied: fsspec in /opt/tefscloud/miniconda3/lib/python3.9/site-packages (from torch) (2024.6.0)\n",
      "Requirement already satisfied: nvidia-curand-cu12==10.3.2.106 in /opt/tefscloud/miniconda3/lib/python3.9/site-packages (from torch) (10.3.2.106)\n",
      "Requirement already satisfied: nvidia-cusparse-cu12==12.1.0.106 in /opt/tefscloud/miniconda3/lib/python3.9/site-packages (from torch) (12.1.0.106)\n",
      "Requirement already satisfied: nvidia-cusolver-cu12==11.4.5.107 in /opt/tefscloud/miniconda3/lib/python3.9/site-packages (from torch) (11.4.5.107)\n",
      "Requirement already satisfied: nvidia-cudnn-cu12==8.9.2.26 in /opt/tefscloud/miniconda3/lib/python3.9/site-packages (from torch) (8.9.2.26)\n",
      "Requirement already satisfied: nvidia-nccl-cu12==2.20.5 in /opt/tefscloud/miniconda3/lib/python3.9/site-packages (from torch) (2.20.5)\n",
      "Requirement already satisfied: triton==2.3.1 in /opt/tefscloud/miniconda3/lib/python3.9/site-packages (from torch) (2.3.1)\n",
      "Requirement already satisfied: networkx in /opt/tefscloud/miniconda3/lib/python3.9/site-packages (from torch) (3.2.1)\n",
      "Requirement already satisfied: typing-extensions>=4.8.0 in /opt/tefscloud/miniconda3/lib/python3.9/site-packages (from torch) (4.11.0)\n",
      "Requirement already satisfied: nvidia-cublas-cu12==12.1.3.1 in /opt/tefscloud/miniconda3/lib/python3.9/site-packages (from torch) (12.1.3.1)\n",
      "Requirement already satisfied: nvidia-nvjitlink-cu12 in /opt/tefscloud/miniconda3/lib/python3.9/site-packages (from nvidia-cusolver-cu12==11.4.5.107->torch) (12.5.40)\n",
      "Requirement already satisfied: numpy in /opt/tefscloud/miniconda3/lib/python3.9/site-packages (from torchvision) (1.26.4)\n",
      "Requirement already satisfied: pillow!=8.3.*,>=5.3.0 in /opt/tefscloud/miniconda3/lib/python3.9/site-packages (from torchvision) (10.3.0)\n",
      "Requirement already satisfied: MarkupSafe>=2.0 in /opt/tefscloud/miniconda3/lib/python3.9/site-packages (from jinja2->torch) (2.1.3)\n",
      "Requirement already satisfied: mpmath<1.4.0,>=1.1.0 in /opt/tefscloud/miniconda3/lib/python3.9/site-packages (from sympy->torch) (1.3.0)\n",
      "\u001b[33mWARNING: Running pip as the 'root' user can result in broken permissions and conflicting behaviour with the system package manager. It is recommended to use a virtual environment instead: https://pip.pypa.io/warnings/venv\u001b[0m\u001b[33m\n",
      "\u001b[0m"
     ]
    }
   ],
   "source": [
    "!pip3 install torch torchvision torchaudio --index-url https://download.pytorch.org/whl/cu118"
   ]
  },
  {
   "cell_type": "markdown",
   "id": "a78095fc-8844-4069-aede-671cb7c8662a",
   "metadata": {},
   "source": [
    "## 2. 导入库\n",
    "首先，我们需要导入 PyTorch 和其他相关库。"
   ]
  },
  {
   "cell_type": "code",
   "execution_count": 2,
   "id": "40cd21ed-3778-4c50-8e72-edc21860f6a7",
   "metadata": {},
   "outputs": [],
   "source": [
    "import torch\n",
    "import torch.nn as nn\n",
    "import torch.optim as optim\n",
    "\n",
    "import numpy as np"
   ]
  },
  {
   "cell_type": "markdown",
   "id": "786d1d36-123a-4c9b-898d-4ea9c01869d8",
   "metadata": {},
   "source": [
    "## 3. 张量（Tensors）\n",
    "\n",
    "### 3.1、 创建张量\n",
    "张量是 PyTorch 的基本数据结构，类似于 NumPy 数组。它们可以在 GPU 上进行高效计算。张量可以表示标量、向量、矩阵或更高维度的数组。"
   ]
  },
  {
   "cell_type": "code",
   "execution_count": 3,
   "id": "71339909-af65-4a5b-9412-ae6307c2f6cd",
   "metadata": {},
   "outputs": [
    {
     "name": "stdout",
     "output_type": "stream",
     "text": [
      "0D tensor (scalar): tensor(42.)\n",
      "0D tensor (scalar) shape: torch.Size([])\n",
      "\n",
      "1D tensor: tensor([1, 2, 3])\n",
      "1D tensor shape: torch.Size([3])\n",
      "\n",
      "2D tensor: tensor([[1, 2, 3],\n",
      "        [4, 5, 6]])\n",
      "2D tensor shape: torch.Size([2, 3])\n",
      "\n",
      "3D tensor: tensor([[[1, 2],\n",
      "         [3, 4]],\n",
      "\n",
      "        [[5, 6],\n",
      "         [7, 8]]])\n",
      "3D tensor shape: torch.Size([2, 2, 2])\n",
      "\n",
      "Random tensor with shape (3, 3) and dtype float32:\n",
      " tensor([[ 0.9189, -2.0569,  1.1952],\n",
      "        [-1.4813, -1.1395, -0.4313],\n",
      "        [-1.4738, -0.3755,  1.0565]])\n",
      "Random tensor with shape:\n",
      " torch.Size([3, 3])\n"
     ]
    }
   ],
   "source": [
    "# 创建一个零维张量（标量）\n",
    "zero_dim_tensor = torch.tensor(42, dtype=torch.float)\n",
    "print(\"0D tensor (scalar):\", zero_dim_tensor)\n",
    "print(\"0D tensor (scalar) shape:\", zero_dim_tensor.shape)\n",
    "\n",
    "# 创建一个一维张量\n",
    "one_dim_tensor = torch.tensor([1, 2, 3])\n",
    "print(\"\\n1D tensor:\", one_dim_tensor)\n",
    "print(\"1D tensor shape:\", one_dim_tensor.shape)\n",
    "\n",
    "# 创建一个二维张量\n",
    "two_dim_tensor = torch.tensor([[1, 2, 3], [4, 5, 6]])\n",
    "print(\"\\n2D tensor:\", two_dim_tensor)\n",
    "print(\"2D tensor shape:\", two_dim_tensor.shape)\n",
    "\n",
    "# 创建一个三维张量\n",
    "three_dim_tensor = torch.tensor([[[1, 2], [3, 4]], [[5, 6], [7, 8]]])\n",
    "print(\"\\n3D tensor:\", three_dim_tensor)\n",
    "print(\"3D tensor shape:\", three_dim_tensor.shape)\n",
    "\n",
    "# 指定形状创建tensor：创建一个形状为 (3, 3) 且数据类型为 float32 的随机张量\n",
    "random_tensor = torch.randn(3, 3, dtype=torch.float32)\n",
    "print(\"\\nRandom tensor with shape (3, 3) and dtype float32:\\n\", random_tensor)\n",
    "print(\"Random tensor with shape:\\n\", random_tensor.shape)"
   ]
  },
  {
   "cell_type": "markdown",
   "id": "72a467a0-ab4e-4a16-9888-9d9000288ce3",
   "metadata": {},
   "source": [
    "### [更多Tensor相关的函数](https://pytorch.org/tutorials/beginner/introyt/tensors_deeper_tutorial.html)"
   ]
  },
  {
   "cell_type": "markdown",
   "id": "8cf31c70-b878-45a1-a9e0-e508e1647a6d",
   "metadata": {},
   "source": [
    "### 3.2、GPU运行\n",
    "```\n",
    ".to()方法\n",
    "```"
   ]
  },
  {
   "cell_type": "code",
   "execution_count": 4,
   "id": "184e2d44-3493-4a5b-8cfc-3d7940a3e6c9",
   "metadata": {},
   "outputs": [
    {
     "name": "stdout",
     "output_type": "stream",
     "text": [
      "tensor([[1, 2, 3],\n",
      "        [4, 5, 6]], device='cuda:0')\n"
     ]
    }
   ],
   "source": [
    "if torch.cuda.is_available():\n",
    "    tensor = two_dim_tensor.to(\"cuda\")\n",
    "    print(tensor)"
   ]
  },
  {
   "cell_type": "markdown",
   "id": "076e4ea4-aaa0-408c-bc55-92aaf37c7ab5",
   "metadata": {},
   "source": [
    "### 3.3、索引与切片常用操作\n",
    "\n",
    "#### 索引\n",
    "\n",
    "- `tensor[i]`\n",
    "  * 获取指定索引 i 的元素。\n",
    "\n",
    "- `tensor[i:j]`\n",
    "  * 获取索引 i 到 j（不包括 j）之间的元素。\n",
    "\n",
    "- `tensor[:j]`\n",
    "  * 获取索引 0 到 j（不包括 j）之间的元素。\n",
    "\n",
    "- `tensor[-1]`\n",
    "  * 获取最后一个元素。\n",
    "\n",
    "- `tensor[:, i]`\n",
    "  * 获取指定列 i 的所有元素。\n",
    "\n",
    "- `tensor[i, :]`\n",
    "  * 获取指定行 i 的所有元素。\n",
    "\n",
    "#### 切片\n",
    "\n",
    "- `tensor[start:end:step]`\n",
    "  * 获取指定范围内的元素，步长由参数 step 指定。\n",
    "\n",
    "- `tensor.flip(1)`\n",
    "  * 反转张量。\n",
    "\n",
    "#### 高级索引\n",
    "\n",
    "- `tensor[[i, j, k], [row_i, row_j, row_k]]`\n",
    "  * 使用整数索引列表选取元素。\n",
    "\n",
    "- `tensor[[i, j, k], :]`\n",
    "  * 使用整数索引列表选取行。\n",
    "\n",
    "- `tensor[:, [col_i, col_j, col_k]]`\n",
    "  * 使用整数索引列表选取列。\n",
    "\n",
    "#### view 和 reshape\n",
    "\n",
    "- `tensor.view(new_shape)`\n",
    "  * 改变张量的形状，保持元素数量不变。\n",
    "\n",
    "- `tensor.reshape(new_shape)`\n",
    "  * 改变张量的形状，自动计算元素数量。"
   ]
  },
  {
   "cell_type": "code",
   "execution_count": 5,
   "id": "ed190d10-47b5-4cd6-9fa6-616a43a02e66",
   "metadata": {},
   "outputs": [
    {
     "name": "stdout",
     "output_type": "stream",
     "text": [
      "Original tensor:\n",
      "tensor([[1, 2, 3],\n",
      "        [4, 5, 6],\n",
      "        [7, 8, 9]])\n",
      "\n",
      "Selected rows:\n",
      "tensor([[1, 2, 3],\n",
      "        [7, 8, 9]])\n"
     ]
    }
   ],
   "source": [
    "# 创建一个 3x3 张量\n",
    "tensor = torch.tensor([[1, 2, 3], [4, 5, 6], [7, 8, 9]])\n",
    "print(\"Original tensor:\")\n",
    "print(tensor)\n",
    "\n",
    "# 选择第 i=0, j=2行\n",
    "i = 0\n",
    "j = 2\n",
    "selected_rows = tensor[[i, j], :]\n",
    "print(\"\\nSelected rows:\")\n",
    "print(selected_rows)"
   ]
  },
  {
   "cell_type": "code",
   "execution_count": 6,
   "id": "dd87c5dc-ab0f-4fde-a75d-76d6a476d73c",
   "metadata": {},
   "outputs": [
    {
     "name": "stdout",
     "output_type": "stream",
     "text": [
      "Original tensor:\n",
      "tensor([[1, 2, 3],\n",
      "        [4, 5, 6],\n",
      "        [7, 8, 9]])\n",
      "\n",
      "Reversed tensor:\n",
      "tensor([[7, 8, 9],\n",
      "        [4, 5, 6],\n",
      "        [1, 2, 3]])\n"
     ]
    }
   ],
   "source": [
    "# 创建一个 3x3 张量\n",
    "tensor = torch.tensor([[1, 2, 3], [4, 5, 6], [7, 8, 9]])\n",
    "print(\"Original tensor:\")\n",
    "print(tensor)\n",
    "\n",
    "# 沿行轴翻转张量\n",
    "reversed_tensor = tensor.flip(0)\n",
    "print(\"\\nReversed tensor:\")\n",
    "print(reversed_tensor)"
   ]
  },
  {
   "cell_type": "markdown",
   "id": "b54ace66-1e0c-47ca-9ec8-72ec63c1f471",
   "metadata": {},
   "source": [
    "### 3.4、Tensor与Numpy Array相互转换\n",
    "```\n",
    "torch.from_numpy创建的tensor与原array共享内存\n",
    "tensor.numpy创建的numpy与原tensor共享内存\n",
    "```"
   ]
  },
  {
   "cell_type": "code",
   "execution_count": 7,
   "id": "cb98486b-6fa7-4346-91dc-1b54d5eeb77a",
   "metadata": {},
   "outputs": [
    {
     "name": "stdout",
     "output_type": "stream",
     "text": [
      "Tensor from NumPy array:\n",
      " tensor([[1, 2, 3],\n",
      "        [4, 5, 6]])\n",
      "\n",
      "NumPy array from tensor:\n",
      " [[ 7  8  9]\n",
      " [10 11 12]]\n"
     ]
    }
   ],
   "source": [
    "# 创建一个 NumPy 数组\n",
    "np_array = np.array([[1, 2, 3], [4, 5, 6]])\n",
    "\n",
    "# 从 NumPy 数组创建 PyTorch 张量\n",
    "tensor_from_np = torch.from_numpy(np_array)\n",
    "print(\"Tensor from NumPy array:\\n\", tensor_from_np)\n",
    "\n",
    "# 创建一个 PyTorch 张量\n",
    "tensor = torch.tensor([[7, 8, 9], [10, 11, 12]])\n",
    "\n",
    "# 将 PyTorch 张量转换为 NumPy 数组\n",
    "np_array_from_tensor = tensor.numpy()\n",
    "print(\"\\nNumPy array from tensor:\\n\", np_array_from_tensor)"
   ]
  },
  {
   "cell_type": "markdown",
   "id": "0dbec32c-04bc-4ac6-b76b-b9a6edcc709b",
   "metadata": {},
   "source": [
    "**请注意，张量和原始 NumPy 数组共享相同的底层内存。这意味着，如果在创建张量之后修改了原始数组或张量，另一个也会被更新。在某些情况下，这可能导致不希望出现的副作用。为了避免这种情况，可以使用 torch.tensor() 方法创建一个新的副本。**"
   ]
  },
  {
   "cell_type": "markdown",
   "id": "8e62e067-8459-4e16-b0ec-cbc1b7d11d06",
   "metadata": {},
   "source": [
    "### 3.5、Tensor的基本运算"
   ]
  },
  {
   "cell_type": "code",
   "execution_count": 8,
   "id": "9b39c686-ec9a-4b4f-8a72-ed6fe41c074b",
   "metadata": {},
   "outputs": [
    {
     "name": "stdout",
     "output_type": "stream",
     "text": [
      "a: \n",
      " tensor([[1, 2],\n",
      "        [3, 4]])\n",
      "b: \n",
      " tensor([[5, 6],\n",
      "        [7, 8]])\n",
      "Addition result:\n",
      "tensor([[ 6,  8],\n",
      "        [10, 12]])\n",
      "\n",
      "Subtraction result:\n",
      "tensor([[-4, -4],\n",
      "        [-4, -4]])\n",
      "\n",
      "Multiplication result (element-wise):\n",
      "tensor([[ 5, 12],\n",
      "        [21, 32]])\n",
      "\n",
      "Division result (element-wise):\n",
      "tensor([[0.2000, 0.3333],\n",
      "        [0.4286, 0.5000]])\n",
      "\n",
      "Matrix multiplication result:\n",
      "tensor([[19, 22],\n",
      "        [43, 50]])\n",
      "tensor([[19, 22],\n",
      "        [43, 50]])\n"
     ]
    }
   ],
   "source": [
    "# 创建两个 2x2 张量\n",
    "a = torch.tensor([[1, 2], [3, 4]])\n",
    "b = torch.tensor([[5, 6], [7, 8]])\n",
    "\n",
    "print(\"a: \\n\", a)\n",
    "print(\"b: \\n\", b)\n",
    "\n",
    "# 加法\n",
    "add_result = a + b\n",
    "print(\"Addition result:\")\n",
    "print(add_result)\n",
    "\n",
    "# 减法\n",
    "sub_result = a - b\n",
    "print(\"\\nSubtraction result:\")\n",
    "print(sub_result)\n",
    "\n",
    "# 乘法（逐元素相乘）\n",
    "mul_result = a * b\n",
    "print(\"\\nMultiplication result (element-wise):\")\n",
    "print(mul_result)\n",
    "\n",
    "# 除法（逐元素相除）\n",
    "div_result = a / b\n",
    "print(\"\\nDivision result (element-wise):\")\n",
    "print(div_result)\n",
    "\n",
    "# 矩阵乘法\n",
    "matmul_result1 = torch.matmul(a, b)\n",
    "matmul_result2 = a @ b\n",
    "print(\"\\nMatrix multiplication result:\")\n",
    "print(matmul_result1)\n",
    "print(matmul_result2)"
   ]
  },
  {
   "cell_type": "markdown",
   "id": "356c9832-58f5-47eb-ab94-e86b9d8140e5",
   "metadata": {},
   "source": [
    "### 4.自动微分（Autograd）\n",
    "PyTorch 的自动微分功能可以自动计算梯度，无需手动计算。\n",
    "#### 4.1、$y=x^2$自动求导"
   ]
  },
  {
   "cell_type": "code",
   "execution_count": 9,
   "id": "d9b2406a-842b-4cfd-ad9a-afcb58186931",
   "metadata": {},
   "outputs": [
    {
     "name": "stdout",
     "output_type": "stream",
     "text": [
      "Gradient of y = x^2 at x = 3.0 is: 6.0\n"
     ]
    }
   ],
   "source": [
    "# 创建一个张量并设置 requires_grad=True\n",
    "x = torch.tensor(3.0, requires_grad=True)\n",
    "\n",
    "# 定义函数 y = x^2\n",
    "y = x ** 2\n",
    "\n",
    "# 计算梯度\n",
    "y.backward()\n",
    "\n",
    "# 获取梯度值\n",
    "gradient = x.grad\n",
    "print(\"Gradient of y = x^2 at x =\", x.item(), \"is:\", gradient.item())"
   ]
  },
  {
   "cell_type": "markdown",
   "id": "b4b5ee99-e36a-4118-9ce8-71cc33b8a347",
   "metadata": {},
   "source": [
    "#### 4.2、$r=x^2 + y^2$自动求导"
   ]
  },
  {
   "cell_type": "code",
   "execution_count": 10,
   "id": "c047f02f-7da4-46d3-9fe2-56a185bcf524",
   "metadata": {},
   "outputs": [
    {
     "name": "stdout",
     "output_type": "stream",
     "text": [
      "tensor(1.2500, grad_fn=<AddBackward0>)\n"
     ]
    }
   ],
   "source": [
    "x = torch.tensor(1.0, requires_grad=True)\n",
    "y = torch.tensor(0.5, requires_grad=True)\n",
    "r = x**2 + y ** 2\n",
    "print(r)"
   ]
  },
  {
   "cell_type": "code",
   "execution_count": 11,
   "id": "d785e6d6-cb95-4f5e-b5a8-8fc2a52d8467",
   "metadata": {},
   "outputs": [
    {
     "name": "stdout",
     "output_type": "stream",
     "text": [
      "True\n",
      "True\n",
      "True\n"
     ]
    }
   ],
   "source": [
    "# 查看各变量是否支持求导\n",
    "print(x.requires_grad)\n",
    "print(y.requires_grad)\n",
    "print(r.requires_grad)"
   ]
  },
  {
   "cell_type": "code",
   "execution_count": 12,
   "id": "b64eaaa2-399b-4c30-82cb-8b5996c0720d",
   "metadata": {},
   "outputs": [
    {
     "ename": "AttributeError",
     "evalue": "'NoneType' object has no attribute 'item'",
     "output_type": "error",
     "traceback": [
      "\u001b[0;31m---------------------------------------------------------------------------\u001b[0m",
      "\u001b[0;31mAttributeError\u001b[0m                            Traceback (most recent call last)",
      "Cell \u001b[0;32mIn[12], line 2\u001b[0m\n\u001b[1;32m      1\u001b[0m \u001b[38;5;66;03m# 查看各变量导数大小。此时因为还没有反向传播，因此导数都不存在\u001b[39;00m\n\u001b[0;32m----> 2\u001b[0m \u001b[38;5;28mprint\u001b[39m(\u001b[43mx\u001b[49m\u001b[38;5;241;43m.\u001b[39;49m\u001b[43mgrad\u001b[49m\u001b[38;5;241;43m.\u001b[39;49m\u001b[43mitem\u001b[49m())\n\u001b[1;32m      3\u001b[0m \u001b[38;5;28mprint\u001b[39m(y\u001b[38;5;241m.\u001b[39mgrad\u001b[38;5;241m.\u001b[39mitem())\n",
      "\u001b[0;31mAttributeError\u001b[0m: 'NoneType' object has no attribute 'item'"
     ]
    }
   ],
   "source": [
    "# 查看各变量导数大小。此时因为还没有反向传播，因此导数都不存在\n",
    "print(x.grad.item())\n",
    "print(y.grad.item())"
   ]
  },
  {
   "cell_type": "code",
   "execution_count": null,
   "id": "32b1d5d7-3a8b-4b6d-a7c5-03e7555a0781",
   "metadata": {},
   "outputs": [],
   "source": [
    "# 反向传播求导\n",
    "r.backward()\n",
    "print(x.grad.item())\n",
    "print(y.grad.item())"
   ]
  },
  {
   "cell_type": "code",
   "execution_count": 13,
   "id": "cce7b964-dde0-48cd-957e-00934cca5462",
   "metadata": {},
   "outputs": [
    {
     "name": "stdout",
     "output_type": "stream",
     "text": [
      "2.0\n",
      "1.0\n"
     ]
    }
   ],
   "source": [
    "# 反向传播求导，导数值会累积的。重复运行相同命令，grad会增加。\n",
    "r = x**2 + y ** 2\n",
    "r.backward()\n",
    "print(x.grad.item())\n",
    "print(y.grad.item())"
   ]
  },
  {
   "cell_type": "markdown",
   "id": "e2ab5402-be4b-4ef8-9d0f-a3fa82d4fcbf",
   "metadata": {},
   "source": [
    "#### 4.3、$y=\\sin(x)$自动求导"
   ]
  },
  {
   "cell_type": "code",
   "execution_count": 14,
   "id": "fd07e780-df6e-42f8-8dec-0a436945c9e7",
   "metadata": {},
   "outputs": [
    {
     "data": {
      "image/png": "[encoded data removed]",
      "text/plain": [
       "<Figure size 640x480 with 1 Axes>"
      ]
     },
     "metadata": {},
     "output_type": "display_data"
    }
   ],
   "source": [
    "import matplotlib.pyplot as plt\n",
    "\n",
    "# 创建一个张量 x，范围从 0 到 7，包含 200 个点，并设置 requires_grad=True 以计算梯度\n",
    "x = torch.tensor(np.linspace(0, 7, 200), requires_grad=True)\n",
    "# 计算 y = sin(x) 的值\n",
    "Y = torch.sin(x)\n",
    "# 计算 y 的总和\n",
    "y = torch.sum(Y)\n",
    "# 计算 y 关于 x 的梯度\n",
    "y.backward()\n",
    "\n",
    "# 创建一个包含一个子图的图形\n",
    "fig, ax = plt.subplots()\n",
    "\n",
    "# 绘制函数曲线 y = sin(x)，颜色为红色\n",
    "function_line, = ax.plot(x.detach().numpy(), Y.detach().numpy(), label='$\\sin(x)$', color=\"red\")\n",
    "# 绘制导数曲线 dy/dx = cos(x)，颜色为绿色\n",
    "derivative_line, = ax.plot(x.detach().numpy(), x.grad.detach().numpy(), label='$\\cos(x)$', color=\"green\")\n",
    "\n",
    "# 设置 x 轴标签\n",
    "ax.set_xlabel('x')\n",
    "# 设置刻度和刻度标签\n",
    "ax.set_xticks([0, np.pi, 2*np.pi])\n",
    "ax.set_xticklabels(['0', '$\\Pi$', '$2\\Pi$'])\n",
    "\n",
    "# 显示图例\n",
    "ax.legend()\n",
    "# 添加网格线\n",
    "ax.grid(True)\n",
    "\n",
    "# 显示图形\n",
    "plt.show()"
   ]
  },
  {
   "cell_type": "markdown",
   "id": "06a53be5-70d6-450b-b99d-80d8f8f75ecc",
   "metadata": {},
   "source": [
    "### 5.[神经网络（Neural Networks）](https://machinelearningmastery.com/building-a-regression-model-in-pytorch/)\n",
    "PyTorch 提供了一个高级 API，用于定义和训练神经网络。您可以使用 nn.Module 类创建自定义网络，并通过继承该类并重写 forward() 方法来实现网络的前向传播。"
   ]
  },
  {
   "cell_type": "code",
   "execution_count": 15,
   "id": "32eafde7-5c83-45ef-8670-161a3f8fe281",
   "metadata": {},
   "outputs": [
    {
     "name": "stdout",
     "output_type": "stream",
     "text": [
      "['MedInc', 'HouseAge', 'AveRooms', 'AveBedrms', 'Population', 'AveOccup', 'Latitude', 'Longitude']\n"
     ]
    }
   ],
   "source": [
    "from sklearn.datasets import fetch_california_housing\n",
    "\n",
    "data = fetch_california_housing()\n",
    "print(data.feature_names)\n",
    "\n",
    "X, y = data.data, data.target"
   ]
  },
  {
   "cell_type": "code",
   "execution_count": 16,
   "id": "ebb4132d-71c9-49e0-9b8a-44bba89bd954",
   "metadata": {},
   "outputs": [
    {
     "name": "stdout",
     "output_type": "stream",
     "text": [
      "X:  (20640, 8)\n",
      "y:  (20640,)\n"
     ]
    }
   ],
   "source": [
    "print(\"X: \", X.shape)\n",
    "print(\"y: \", y.shape)"
   ]
  },
  {
   "cell_type": "markdown",
   "id": "cffbc64e-ed29-4a05-be96-bfbb81d5e219",
   "metadata": {},
   "source": [
    "本文采用的神经网络架构：5层全连接神经网络。输入层8个神经元，第2、3、4层分别24，12和6个神经元。输出层1个神经元。\n",
    "\n",
    "<img src=\"nn.svg\" alt=\"神经网络架构\" width=\"1400\" height=\"800\" />"
   ]
  },
  {
   "cell_type": "code",
   "execution_count": 48,
   "id": "018daf55-28be-47a6-bd9a-e991a3ebeed2",
   "metadata": {},
   "outputs": [
    {
     "data": {
      "text/plain": [
       "Sequential(\n",
       "  (0): Linear(in_features=8, out_features=24, bias=True)\n",
       "  (1): ReLU()\n",
       "  (2): Linear(in_features=24, out_features=12, bias=True)\n",
       "  (3): ReLU()\n",
       "  (4): Linear(in_features=12, out_features=6, bias=True)\n",
       "  (5): ReLU()\n",
       "  (6): Linear(in_features=6, out_features=1, bias=True)\n",
       ")"
      ]
     },
     "execution_count": 48,
     "metadata": {},
     "output_type": "execute_result"
    }
   ],
   "source": [
    "import torch.nn as nn\n",
    "\n",
    "# 定义神经网络架构\n",
    "model = nn.Sequential(\n",
    "    nn.Linear(8, 24),\n",
    "    nn.ReLU(), # 激活函数：1、增加模型的非线性；2、解决梯度消失和梯度爆炸问题；3、某些激活函数具有正则化效果；4、引入层次化特征。\n",
    "    nn.Linear(24, 12),\n",
    "    nn.ReLU(),\n",
    "    nn.Linear(12, 6),\n",
    "    nn.ReLU(),\n",
    "    nn.Linear(6, 1)\n",
    ")\n",
    "\n",
    "model"
   ]
  },
  {
   "cell_type": "code",
   "execution_count": 45,
   "id": "b9d3f4c8-1da8-487f-89cd-c40bf2c322c4",
   "metadata": {},
   "outputs": [],
   "source": [
    "import torch.optim as optim\n",
    "\n",
    "# 定义损失函数和优化器\n",
    "loss_fn = nn.MSELoss()  # 平方误差\n",
    "optimizer = optim.Adam(model.parameters(), lr=0.0001)  # 优化算法，学习率0.0001"
   ]
  },
  {
   "cell_type": "markdown",
   "id": "97b86ee4-70e9-4cb3-bd6d-faade7cd484d",
   "metadata": {},
   "source": [
    "#### 5.1、[CPU上训练模型](https://machinelearningmastery.com/building-a-regression-model-in-pytorch/)"
   ]
  },
  {
   "cell_type": "code",
   "execution_count": 46,
   "id": "5180e5f3-b35b-4534-a3d0-a20f94c073f8",
   "metadata": {},
   "outputs": [
    {
     "name": "stdout",
     "output_type": "stream",
     "text": [
      "总计用时：191.67503142356873s.\n"
     ]
    }
   ],
   "source": [
    "import copy\n",
    "import time\n",
    "import numpy as np\n",
    "import torch\n",
    "import tqdm\n",
    "from sklearn.model_selection import train_test_split\n",
    "\n",
    "# 将数据集划分为训练集和测试集\n",
    "X_train, X_test, y_train, y_test = train_test_split(X, y, train_size=0.7, shuffle=True)\n",
    "X_train = torch.tensor(X_train, dtype=torch.float32)\n",
    "y_train = torch.tensor(y_train, dtype=torch.float32).reshape(-1, 1)\n",
    "X_test = torch.tensor(X_test, dtype=torch.float32)\n",
    "y_test = torch.tensor(y_test, dtype=torch.float32).reshape(-1, 1)\n",
    "\n",
    "# 训练参数\n",
    "n_epochs = 100   # 运行的epoch数\n",
    "batch_size = 10  # 每个批次的大小\n",
    "batch_start = torch.arange(0, len(X_train), batch_size)\n",
    "\n",
    "# 保存最佳模型\n",
    "best_mse = np.inf   # 初始化为无穷大\n",
    "best_weights = None\n",
    "history = []\n",
    "\n",
    "t1 = time.time()\n",
    "\n",
    "# 训练循环\n",
    "for epoch in range(n_epochs):\n",
    "    # 将模型设置为训练模式，在下面循环中，模型将进行权重更新\n",
    "    model.train()\n",
    "    # 使用tqdm库创建一个进度条，用于展示训练过程中各epoch的进度。batch_start作为批次起始索引，mininterval=0取消进度条更新间隔的限制，disable=True禁用进度条的功能。\n",
    "    with tqdm.tqdm(batch_start, unit=\"batch\", mininterval=0, disable=True) as bar:\n",
    "        # 设置进度条的描述为当前epoch的编号\n",
    "        bar.set_description(f\"Epoch {epoch}\")\n",
    "        for start in bar:\n",
    "            # 取一个批次\n",
    "            X_batch = X_train[start:start+batch_size]\n",
    "            y_batch = y_train[start:start+batch_size]\n",
    "            # 前向传播，model(X_batch)等同于model.forward(X_batch)\n",
    "            # 在Python中，当你定义一个类并在其中实现__call__方法时，这个类的实例可以像函数一样被调用。在PyTorch中，torch.nn.Module类已经实现了__call__方法，这使得我们可以直接通过模型实例调用前向计算。\n",
    "            y_pred = model(X_batch)\n",
    "            loss = loss_fn(y_pred, y_batch)\n",
    "            # 反向传播\n",
    "            optimizer.zero_grad()\n",
    "            loss.backward()\n",
    "            # 更新权重\n",
    "            optimizer.step()\n",
    "            # 显示当前批次的损失值\n",
    "            bar.set_postfix(mse=float(loss))\n",
    "    # 在每个epoch结束时评估准确率\n",
    "    model.eval()\n",
    "    y_pred = model(X_test)\n",
    "    mse = loss_fn(y_pred, y_test)\n",
    "    mse = float(mse)\n",
    "    history.append(mse)\n",
    "    if mse < best_mse:\n",
    "        best_mse = mse\n",
    "        # 将当前模型的权重复制到最佳权重变量中\n",
    "        best_weights = copy.deepcopy(model.state_dict())\n",
    "\n",
    "# 恢复模型并返回最佳准确率\n",
    "model.load_state_dict(best_weights)\n",
    "\n",
    "t2 = time.time()\n",
    "print(\"总计用时：{}s.\".format(t2-t1))"
   ]
  },
  {
   "cell_type": "code",
   "execution_count": 47,
   "id": "e7261fb9-8e01-4f0f-a783-e2b29fb51987",
   "metadata": {},
   "outputs": [
    {
     "name": "stdout",
     "output_type": "stream",
     "text": [
      "MSE: 1.30\n",
      "RMSE: 1.14\n"
     ]
    },
    {
     "data": {
      "image/png": "[encoded data removed]",
      "text/plain": [
       "<Figure size 640x480 with 1 Axes>"
      ]
     },
     "metadata": {},
     "output_type": "display_data"
    }
   ],
   "source": [
    "import matplotlib.pyplot as plt\n",
    "print(\"MSE: %.2f\" % best_mse)\n",
    "print(\"RMSE: %.2f\" % np.sqrt(best_mse))\n",
    "plt.plot(history)\n",
    "plt.show()"
   ]
  },
  {
   "cell_type": "markdown",
   "id": "f519d4c2-5fce-4dce-938e-f59cbf2d518d",
   "metadata": {},
   "source": [
    "#### 5.2、GPU上训练模型"
   ]
  },
  {
   "cell_type": "code",
   "execution_count": 36,
   "id": "eeae461b-e83d-4191-b054-28e1f30d5bca",
   "metadata": {
    "scrolled": true
   },
   "outputs": [
    {
     "name": "stdout",
     "output_type": "stream",
     "text": [
      "总计用时：95.04457306861877s.\n"
     ]
    }
   ],
   "source": [
    "import copy\n",
    "import time\n",
    "import numpy as np\n",
    "import torch\n",
    "import tqdm\n",
    "from sklearn.model_selection import train_test_split\n",
    "import torch.nn as nn\n",
    "import torch.optim as optim\n",
    "\n",
    "# 确定用于运行代码的设备\n",
    "device = torch.device(\"cuda\" if torch.cuda.is_available() else \"cpu\")\n",
    "\n",
    "# 定义神经网络架构\n",
    "model = nn.Sequential(\n",
    "    nn.Linear(8, 24),\n",
    "    nn.ReLU(),\n",
    "    nn.Linear(24, 12),\n",
    "    nn.ReLU(),\n",
    "    nn.Linear(12, 6),\n",
    "    nn.ReLU(),\n",
    "    nn.Linear(6, 1)\n",
    ").to(device)\n",
    "\n",
    "# 定义损失函数和优化器\n",
    "loss_fn = nn.MSELoss()  # 平方误差\n",
    "optimizer = optim.Adam(model.parameters(), lr=0.0001)  # 优化算法，学习率0.0001\n",
    "\n",
    "# 将数据集划分为训练集和测试集\n",
    "X_train, X_test, y_train, y_test = train_test_split(X, y, train_size=0.7, shuffle=True)\n",
    "X_train = torch.tensor(X_train, dtype=torch.float32).to(device)\n",
    "y_train = torch.tensor(y_train, dtype=torch.float32).to(device).reshape(-1, 1)\n",
    "X_test = torch.tensor(X_test, dtype=torch.float32).to(device)\n",
    "y_test = torch.tensor(y_test, dtype=torch.float32).to(device).reshape(-1, 1)\n",
    "\n",
    "# 训练参数\n",
    "n_epochs = 500   # 运行的epoch数\n",
    "batch_size = 100  # 每个批次的大小\n",
    "batch_start = torch.arange(0, len(X_train), batch_size)\n",
    "\n",
    "# 保存最佳模型\n",
    "best_mse = np.inf   # 初始化为无穷大\n",
    "best_weights = None\n",
    "history = []\n",
    "\n",
    "t1 = time.time()\n",
    "# 训练循环\n",
    "for epoch in range(n_epochs):\n",
    "    model.train()\n",
    "    with tqdm.tqdm(batch_start, unit=\"batch\", mininterval=0, disable=True) as bar:\n",
    "        bar.set_description(f\"Epoch {epoch}\")\n",
    "        for start in bar:\n",
    "            # 取一个批次\n",
    "            X_batch = X_train[start:start+batch_size]\n",
    "            y_batch = y_train[start:start+batch_size]\n",
    "            # 前向传播\n",
    "            y_pred = model(X_batch)\n",
    "            loss = loss_fn(y_pred, y_batch)\n",
    "            # 反向传播\n",
    "            optimizer.zero_grad()\n",
    "            loss.backward()\n",
    "            # 更新权重\n",
    "            optimizer.step()\n",
    "            # 打印进度\n",
    "            bar.set_postfix(mse=float(loss))\n",
    "    # 在每个epoch结束时评估准确率\n",
    "    model.eval()\n",
    "    y_pred = model(X_test)\n",
    "    mse = loss_fn(y_pred, y_test)\n",
    "    mse = float(mse)\n",
    "    history.append(mse)\n",
    "    if mse < best_mse:\n",
    "        best_mse = mse\n",
    "        best_weights = copy.deepcopy(model.state_dict())\n",
    "\n",
    "# 恢复模型并返回最佳准确率\n",
    "model.load_state_dict(best_weights)\n",
    "\n",
    "t2 = time.time()\n",
    "print(\"总计用时：{}s.\".format(t2-t1))"
   ]
  },
  {
   "cell_type": "code",
   "execution_count": 37,
   "id": "8724487b-7d30-402e-bf66-3f89f8a5e6ca",
   "metadata": {},
   "outputs": [
    {
     "name": "stdout",
     "output_type": "stream",
     "text": [
      "MSE: 0.49\n",
      "RMSE: 0.70\n"
     ]
    },
    {
     "data": {
      "image/png": "[encoded data removed]",
      "text/plain": [
       "<Figure size 640x480 with 1 Axes>"
      ]
     },
     "metadata": {},
     "output_type": "display_data"
    }
   ],
   "source": [
    "import matplotlib.pyplot as plt\n",
    "print(\"MSE: %.2f\" % best_mse)\n",
    "print(\"RMSE: %.2f\" % np.sqrt(best_mse))\n",
    "plt.plot(history)\n",
    "plt.show()"
   ]
  },
  {
   "cell_type": "code",
   "execution_count": null,
   "id": "f2d13516-cac2-42ab-98da-fb5904f45eeb",
   "metadata": {},
   "outputs": [],
   "source": []
  },
  {
   "cell_type": "code",
   "execution_count": 38,
   "id": "bb28628f-66aa-4e55-bc8c-1575cf5c5ada",
   "metadata": {},
   "outputs": [],
   "source": [
    "class TinyModel(torch.nn.Module):\n",
    "\n",
    "    def __init__(self):\n",
    "        super(TinyModel, self).__init__()\n",
    "\n",
    "        self.linear1 = torch.nn.Linear(8, 24)\n",
    "        self.activation = torch.nn.ReLU()\n",
    "        self.linear2 = torch.nn.Linear(24, 12)\n",
    "        self.linear3 = torch.nn.Linear(12, 6)\n",
    "        self.linear4 = torch.nn.Linear(6, 1)\n",
    "\n",
    "    def forward(self, x):\n",
    "        x = self.linear1(x)\n",
    "        x = self.activation(x)\n",
    "        x = self.linear2(x)\n",
    "        x = self.activation(x)\n",
    "        x = self.linear3(x)\n",
    "        x = self.activation(x)\n",
    "        x = self.linear4(x)\n",
    "        return x\n",
    "\n",
    "model = TinyModel()"
   ]
  },
  {
   "cell_type": "code",
   "execution_count": 39,
   "id": "30466c3f-702a-44ed-bd93-f8db548158cd",
   "metadata": {
    "scrolled": true
   },
   "outputs": [
    {
     "name": "stdout",
     "output_type": "stream",
     "text": [
      "总计用时：95.45646357536316s.\n"
     ]
    }
   ],
   "source": [
    "import copy\n",
    "import time\n",
    "import numpy as np\n",
    "import torch\n",
    "import tqdm\n",
    "from sklearn.model_selection import train_test_split\n",
    "import torch.nn as nn\n",
    "import torch.optim as optim\n",
    "\n",
    "# 确定用于运行代码的设备\n",
    "device = torch.device(\"cuda\" if torch.cuda.is_available() else \"cpu\")\n",
    "\n",
    "model.to(device)\n",
    "\n",
    "# 定义损失函数和优化器\n",
    "loss_fn = nn.MSELoss()  # 平方误差\n",
    "optimizer = optim.Adam(model.parameters(), lr=0.0001)  # 优化算法，学习率0.0001\n",
    "\n",
    "# 将数据集划分为训练集和测试集\n",
    "X_train, X_test, y_train, y_test = train_test_split(X, y, train_size=0.7, shuffle=True)\n",
    "X_train = torch.tensor(X_train, dtype=torch.float32).to(device)\n",
    "y_train = torch.tensor(y_train, dtype=torch.float32).to(device).reshape(-1, 1)\n",
    "X_test = torch.tensor(X_test, dtype=torch.float32).to(device)\n",
    "y_test = torch.tensor(y_test, dtype=torch.float32).to(device).reshape(-1, 1)\n",
    "\n",
    "# 训练参数\n",
    "n_epochs = 500   # 运行的epoch数\n",
    "batch_size = 100  # 每个批次的大小\n",
    "batch_start = torch.arange(0, len(X_train), batch_size)\n",
    "\n",
    "# 保存最佳模型\n",
    "best_mse = np.inf   # 初始化为无穷大\n",
    "best_weights = None\n",
    "history = []\n",
    "\n",
    "t1 = time.time()\n",
    "# 训练循环\n",
    "for epoch in range(n_epochs):\n",
    "    model.train()\n",
    "    with tqdm.tqdm(batch_start, unit=\"batch\", mininterval=0, disable=True) as bar:\n",
    "        # 设置进度条的描述为当前epoch的编号\n",
    "        bar.set_description(f\"Epoch {epoch}\") \n",
    "        for start in bar:\n",
    "            # 取一个批次\n",
    "            X_batch = X_train[start:start+batch_size]\n",
    "            y_batch = y_train[start:start+batch_size]\n",
    "            # 前向传播\n",
    "            y_pred = model(X_batch)\n",
    "            loss = loss_fn(y_pred, y_batch)\n",
    "            # 反向传播\n",
    "            optimizer.zero_grad()\n",
    "            loss.backward()\n",
    "            # 更新权重\n",
    "            optimizer.step()\n",
    "            # 显示当前批次的损失值\n",
    "            bar.set_postfix(mse=float(loss))\n",
    "    # 在每个epoch结束时评估准确率\n",
    "    model.eval()\n",
    "    y_pred = model(X_test)\n",
    "    mse = loss_fn(y_pred, y_test)\n",
    "    mse = float(mse)\n",
    "    history.append(mse)\n",
    "    if mse < best_mse:\n",
    "        best_mse = mse\n",
    "        best_weights = copy.deepcopy(model.state_dict())\n",
    "\n",
    "# 恢复模型并返回最佳准确率\n",
    "model.load_state_dict(best_weights)\n",
    "\n",
    "t2 = time.time()\n",
    "print(\"总计用时：{}s.\".format(t2-t1))"
   ]
  },
  {
   "cell_type": "code",
   "execution_count": 40,
   "id": "a83bedb5-e569-4f63-9a97-cbd4738bdd4c",
   "metadata": {},
   "outputs": [
    {
     "name": "stdout",
     "output_type": "stream",
     "text": [
      "MSE: 0.49\n",
      "RMSE: 0.70\n"
     ]
    },
    {
     "data": {
      "image/png": "[encoded data removed]",
      "text/plain": [
       "<Figure size 640x480 with 1 Axes>"
      ]
     },
     "metadata": {},
     "output_type": "display_data"
    }
   ],
   "source": [
    "import matplotlib.pyplot as plt\n",
    "print(\"MSE: %.2f\" % best_mse)\n",
    "print(\"RMSE: %.2f\" % np.sqrt(best_mse))\n",
    "plt.plot(history)\n",
    "plt.show()"
   ]
  },
  {
   "cell_type": "code",
   "execution_count": 41,
   "id": "bde2479c-967e-4bda-8575-e8aa4cd910aa",
   "metadata": {},
   "outputs": [
    {
     "data": {
      "text/plain": [
       "TinyModel(\n",
       "  (linear1): Linear(in_features=8, out_features=24, bias=True)\n",
       "  (activation): ReLU()\n",
       "  (linear2): Linear(in_features=24, out_features=12, bias=True)\n",
       "  (linear3): Linear(in_features=12, out_features=6, bias=True)\n",
       "  (linear4): Linear(in_features=6, out_features=1, bias=True)\n",
       ")"
      ]
     },
     "execution_count": 41,
     "metadata": {},
     "output_type": "execute_result"
    }
   ],
   "source": [
    "model"
   ]
  },
  {
   "cell_type": "markdown",
   "id": "a8e8ac74-7150-4584-a331-2b7bdef3e618",
   "metadata": {},
   "source": [
    "## 总结\n",
    "PyTorch 是一个功能强大且易于使用的机器学习框架，适用于各种深度学习任务。本简介涵盖了 PyTorch 的一些核心概念，如张量、自动微分、神经网络、损失函数、优化器以及 GPU 支持。要深入了解 PyTorch 的更多功能和用法，请参阅 PyTorch 官方文档 和相关教程。"
   ]
  },
  {
   "cell_type": "markdown",
   "id": "376e6356-0734-4ebe-846e-1aaa9992c450",
   "metadata": {},
   "source": [
    "## 补充：自定义数据集"
   ]
  },
  {
   "cell_type": "code",
   "execution_count": 47,
   "id": "31f46354-cbf4-43b3-bf34-74995e6c7b3d",
   "metadata": {},
   "outputs": [
    {
     "name": "stdout",
     "output_type": "stream",
     "text": [
      "['MedInc', 'HouseAge', 'AveRooms', 'AveBedrms', 'Population', 'AveOccup', 'Latitude', 'Longitude']\n",
      "Feature batch shape: torch.Size([32, 8])\n",
      "Labels batch shape: torch.Size([32])\n"
     ]
    }
   ],
   "source": [
    "import torch\n",
    "from torch.utils.data import Dataset, DataLoader, random_split\n",
    "from sklearn.datasets import fetch_california_housing\n",
    "\n",
    "# 加载加利福尼亚房价数据集\n",
    "data = fetch_california_housing()\n",
    "print(data.feature_names)\n",
    "\n",
    "# 提取特征和目标变量\n",
    "X, y = data.data, data.target\n",
    "\n",
    "# 自定义数据集类，包含归一化处理\n",
    "class CustomDataset(Dataset):\n",
    "    def __init__(self, data, labels, normalize='min_max'):\n",
    "        self.data = torch.tensor(data, dtype=torch.float32)\n",
    "        self.labels = torch.tensor(labels, dtype=torch.float32)\n",
    "        self.normalize = normalize\n",
    "        \n",
    "        # 根据选择的归一化方法进行预处理\n",
    "        if normalize == 'min_max':\n",
    "            self.data_min = torch.min(self.data)\n",
    "            self.data_max = torch.max(self.data)\n",
    "        elif normalize == 'standard':\n",
    "            self.data_mean = torch.mean(self.data)\n",
    "            self.data_std = torch.std(self.data)\n",
    "    \n",
    "    def __len__(self):\n",
    "        return len(self.data)\n",
    "    \n",
    "    def __getitem__(self, index):\n",
    "        x = self.data[index]\n",
    "        y = self.labels[index]\n",
    "        \n",
    "        # 执行归一化\n",
    "        if self.normalize == 'min_max':\n",
    "            x = (x - self.data_min) / (self.data_max - self.data_min)\n",
    "        elif self.normalize == 'standard':\n",
    "            x = (x - self.data_mean) / self.data_std\n",
    "        \n",
    "        return x, y\n",
    "\n",
    "# 数据归一化方法可以选择 'min_max' 或 'standard'\n",
    "normalize_method = 'min_max'  # 或者 'standard'\n",
    "\n",
    "# 创建自定义数据集实例，并指定归一化方法\n",
    "dataset = CustomDataset(X, y, normalize=normalize_method)\n",
    "\n",
    "# 划分数据集为训练集和测试集\n",
    "train_size = int(0.8 * len(dataset))\n",
    "test_size = len(dataset) - train_size\n",
    "train_dataset, test_dataset = random_split(dataset, [train_size, test_size])\n",
    "\n",
    "# 创建训练集和测试集的DataLoader\n",
    "train_loader = DataLoader(train_dataset, batch_size=32, shuffle=True)\n",
    "test_loader = DataLoader(test_dataset, batch_size=32, shuffle=False)\n",
    "\n",
    "# 显示训练集特征和标签的批次形状\n",
    "train_features, train_labels = next(iter(train_loader))\n",
    "print(f\"Feature batch shape: {train_features.size()}\")\n",
    "print(f\"Labels batch shape: {train_labels.size()}\")"
   ]
  },
  {
   "cell_type": "code",
   "execution_count": null,
   "id": "4cf127c9-e86a-4e0f-a7c7-fb9110ef28f5",
   "metadata": {},
   "outputs": [],
   "source": []
  },
  {
   "cell_type": "code",
   "execution_count": null,
   "id": "6619320e-72e0-4155-af7d-5810d91888f4",
   "metadata": {},
   "outputs": [],
   "source": []
  },
  {
   "cell_type": "code",
   "execution_count": null,
   "id": "c33a2f07-2d5a-427b-93b3-921293eb40e9",
   "metadata": {},
   "outputs": [],
   "source": []
  },
  {
   "cell_type": "code",
   "execution_count": null,
   "id": "5fe913b5-abcb-4e58-8d3f-f5012dc35535",
   "metadata": {},
   "outputs": [],
   "source": []
  },
  {
   "cell_type": "code",
   "execution_count": null,
   "id": "b80b2317-3be6-4646-a326-63a3576b7a1d",
   "metadata": {},
   "outputs": [],
   "source": []
  },
  {
   "cell_type": "code",
   "execution_count": null,
   "id": "b1fd06ff-0727-4cbf-ad7e-d477c9d8de79",
   "metadata": {},
   "outputs": [],
   "source": []
  }
 ],
 "metadata": {
  "kernelspec": {
   "display_name": "Python 3 (ipykernel)",
   "language": "python",
   "name": "python3"
  },
  "language_info": {
   "codemirror_mode": {
    "name": "ipython",
    "version": 3
   },
   "file_extension": ".py",
   "mimetype": "text/x-python",
   "name": "python",
   "nbconvert_exporter": "python",
   "pygments_lexer": "ipython3",
   "version": "3.9.18"
  }
 },
 "nbformat": 4,
 "nbformat_minor": 5
}
