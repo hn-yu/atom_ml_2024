{
 "cells": [
  {
   "cell_type": "markdown",
   "metadata": {},
   "source": [
    "## <font color=#FF0000>元素描述符的主要网站和来源</font>\n",
    "### 1) 无机元素描述符\n",
    "- https://github.com/hackingmaterials/matminer/tree/main/matminer/utils/data_files/magpie_elementdata\n",
    "- https://mendeleev.readthedocs.io/en/stable/data.html\n",
    "\n",
    "### 2) 有机分子元素描述符\n",
    "- https://www.rdkit.org/docs/GettingStartedInPython.html\n",
    "- https://github.com/CompPhysVienna/MLSummerSchoolVienna2022/blob/main/Day10_July22/polymer_featurization.ipynb\n",
    "- https://github.com/digital-synthesis-lab/conformers\n",
    "- https://github.com/digital-chemistry-laboratory/morfeus\n",
    "- http://www.scbdd.com/padel_desc/index/\n",
    "- https://onlinelibrary.wiley.com/doi/full/10.1002/jcc.21707"
   ]
  },
  {
   "cell_type": "markdown",
   "metadata": {},
   "source": [
    "### <font color=#FF0000>1. 基于matminer的元素描述符</font>\n",
    "- https://github.com/hackingmaterials/matminer/blob/main/matminer/featurizers/composition/composite.py\n",
    "- https://hackingmaterials.lbl.gov/matminer/featurizer_summary.html\n",
    "- https://matsci.org/t/how-to-generate-average-bond-length-average-bond-angle-features-by-using-matmier/36678\n",
    "- https://matsci.org/t/add-vdw-radius-as-a-feature/50317/4"
   ]
  },
  {
   "cell_type": "code",
   "execution_count": null,
   "metadata": {},
   "outputs": [],
   "source": [
    "from matminer.featurizers.conversions import StrToComposition\n",
    "df = StrToComposition().featurize_dataframe(df, \"formula\")\n",
    "\n",
    "from matminer.featurizers.composition import ElementProperty\n",
    "ep_feat = ElementProperty.from_preset(preset_name=\"magpie\", stats=[\"mean\"])  \n",
    "# preset_name: (str) can be one of \"magpie\", \"deml\", \"matminer\", \"matscholar_el\", or \"megnet_el\".  \n",
    "# stats = [\"minimum\", \"maximum\", \"range\", \"mean\", \"avg_dev\", \"mode\"] for magpie\n",
    "# stats = [\"minimum\", \"maximum\", \"range\", \"mean\", \"std_dev\"] for \"deml\", \"matminer\", \"matscholar_el\", or \"megnet_el\".\n",
    "df = ep_feat.featurize_dataframe(df, col_id=\"composition\")\n",
    "\n",
    "# 氧化态\n",
    "from matminer.featurizers.conversions import CompositionToOxidComposition\n",
    "df = CompositionToOxidComposition().featurize_dataframe(df, \"composition\")\n",
    "\n",
    "from matminer.featurizers.composition import OxidationStates\n",
    "os_feat = OxidationStates()\n",
    "df = os_feat.featurize_dataframe(df, \"composition_oxid\")"
   ]
  },
  {
   "cell_type": "markdown",
   "metadata": {},
   "source": [
    "### <font color=#FF0000>2. 基于CBFV的元素描述符</font>\n",
    "- https://github.com/Kaaiian/CBFV\n",
    "- https://github.com/Kaaiian/CBFV/tree/master/cbfv/element_properties\n",
    "\n",
    "**elem_prop='magpie'，除了magpie还可以赋值下面的值！**\n",
    "- jarvis\n",
    "- magpie\n",
    "- mat2vec\n",
    "- oliynyk (default)\n",
    "- onehot\n",
    "- random_200"
   ]
  },
  {
   "cell_type": "code",
   "execution_count": null,
   "metadata": {},
   "outputs": [],
   "source": [
    "from CBFV import composition\n",
    "X, y, formulae, skipped = composition.generate_features(df,\n",
    "                                                        elem_prop='magpie',\n",
    "                                                        drop_duplicates=False,\n",
    "                                                        extend_features=False,\n",
    "                                                        sum_feat=False)"
   ]
  },
  {
   "cell_type": "markdown",
   "metadata": {},
   "source": [
    "### <font color=#FF0000>3. 基于ElementEmbeddings的元素描述符</font>\n",
    "- https://github.com/WMD-group/ElementEmbeddings\n",
    "- https://wmd-group.github.io/ElementEmbeddings/0.4/\n",
    "\n",
    "**embedding=\"magpie\"，除了magpie还可以赋值下面的值！**\n",
    "- Magpie\tmagpie\n",
    "- Magpie (scaled)\tmagpie_sc\n",
    "- Mat2Vec\tmat2vec\n",
    "- Matscholar\tmatscholar\n",
    "- Megnet (16 dimensions)\tmegnet16\n",
    "- Modified pettifor scale\tmod_petti\n",
    "- Oliynyk\toliynyk\n",
    "- Oliynyk (scaled)\toliynyk_sc\n",
    "- Random (200 dimensions)\trandom_200\n",
    "- SkipAtom\tskipatom\n",
    "- Atomic Number\tatomic\n",
    "\n",
    "**stats=[\"mean\",\"sum\"]，除了mean和sum还可以赋值下面的值！**\n",
    "- \"mean\",\n",
    "- \"variance\",\n",
    "- \"minpool\",\n",
    "- \"maxpool\",\n",
    "- \"range\",\n",
    "- \"sum\",\n",
    "- \"geometric_mean\",\n",
    "- \"harmonic_mean\","
   ]
  },
  {
   "cell_type": "code",
   "execution_count": null,
   "metadata": {},
   "outputs": [],
   "source": [
    "from elementembeddings.composition import composition_featuriser\n",
    "\n",
    "df_featurised = composition_featuriser(df, embedding=\"magpie\", stats=[\"mean\",\"sum\"])\n",
    "\n",
    "df_featurised"
   ]
  },
  {
   "cell_type": "markdown",
   "metadata": {},
   "source": [
    "### <font color=#FF0000>4. 基于XenonPy的元素描述符</font>\n",
    "- https://github.com/yoshida-lab/XenonPy/releases/tag/v0.6.8\n",
    "- https://xenonpy.readthedocs.io/en/latest/tutorials/2-descriptor.html\n",
    "- https://github.com/yoshida-lab/XenonPy/blob/master/samples/custom_descriptor_calculator.ipynb"
   ]
  },
  {
   "cell_type": "code",
   "execution_count": null,
   "metadata": {},
   "outputs": [],
   "source": [
    "import pandas as pd\n",
    "\n",
    "df = pd.read_excel('band-gap.xlsx')\n",
    "\n",
    "df.rename(columns = {\"Materials\": \"composition\"}, inplace=True) \n",
    "df.rename(columns = {\"a=b=c (Å)\\nPBE\": \"La\"}, inplace=True)\n",
    "df.rename(columns = {\"Eg (eV)\\nHSE+SOC\": \"target\"}, inplace=True)\n",
    "\n",
    "\n",
    "chemical_list = df['composition'].tolist()\n",
    "converted_list = []\n",
    "\n",
    "for chemical_formula in chemical_list:\n",
    "    chemical_dict = {}\n",
    "    elements = re.findall('[A-Z][a-z]?\\d*', chemical_formula)\n",
    "    \n",
    "    for element in elements:\n",
    "        element_name = re.findall('[A-Z][a-z]?', element)[0]\n",
    "        element_count = re.findall('\\d+', element)\n",
    "        if element_count:\n",
    "            element_count = int(element_count[0])\n",
    "        else:\n",
    "            element_count = 1\n",
    "        \n",
    "        chemical_dict[element_name] = element_count\n",
    "    \n",
    "    converted_list.append(chemical_dict)\n",
    "\n",
    "from xenonpy.descriptor import Compositions\n",
    "import pandas as pd\n",
    "\n",
    "data = pd.read_pickle('elements_completed.pd')\n",
    "\n",
    "# Define the compounds' compositions\n",
    "comps = converted_list\n",
    "\n",
    "# Create an instance of the Compositions calculator\n",
    "cal = Compositions()\n",
    "\n",
    "# Transform the compositions and obtain the descriptors\n",
    "descriptors = cal.transform(comps)\n",
    "\n",
    "# Convert the descriptors to a pandas DataFrame\n",
    "df = pd.DataFrame(descriptors)\n",
    "\n",
    "# Print the resulting DataFrame\n",
    "df"
   ]
  },
  {
   "cell_type": "markdown",
   "metadata": {},
   "source": [
    "### <font color=#FF0000>5. 基于jabir的元素描述符</font>\n",
    "- https://github.com/Gashmard/jabir\n",
    "- https://github.com/Gashmard/Soraya"
   ]
  }
 ],
 "metadata": {
  "kernelspec": {
   "display_name": "Python 3 (ipykernel)",
   "language": "python",
   "name": "python3"
  },
  "language_info": {
   "codemirror_mode": {
    "name": "ipython",
    "version": 3
   },
   "file_extension": ".py",
   "mimetype": "text/x-python",
   "name": "python",
   "nbconvert_exporter": "python",
   "pygments_lexer": "ipython3",
   "version": "3.9.18"
  }
 },
 "nbformat": 4,
 "nbformat_minor": 4
}
