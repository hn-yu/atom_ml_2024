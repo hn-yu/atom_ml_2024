


<!DOCTYPE HTML>
<html lang="en">

<head>
    <meta charset="utf-8">

    <title>JupyterHub</title>
    <meta http-equiv="X-UA-Compatible" content="chrome=1">
    <meta name="viewport" content="width=device-width, initial-scale=1.0">

    
    <link rel="stylesheet" href="/prod/analytics/public/hub/static/css/style.min.css?v=01598a5386176f0279952a3b9632a07e7fce9a12aa53108973c83be9ec3473e7a59354876fab64bfeb01892eb503870183707aa03f207d7a94845ca7980c3819" type="text/css"/>
    
    
    <link rel="icon" href="/prod/analytics/public/hub/static/favicon.ico?v=fde5757cd3892b979919d3b1faa88a410f28829feb5ba22b6cf069f2c6c98675fceef90f932e49b510e74d65c681d5846b943e7f7cc1b41867422f0481085c1f" type="image/x-icon">
    
    
    <script src="/prod/analytics/public/hub/static/components/requirejs/require.js?v=bd1aa102bdb0b27fbf712b32cfcd29b016c272acf3d864ee8469376eaddd032cadcf827ff17c05a8c8e20061418fe58cf79947049f5c0dff3b4f73fcc8cad8ec" type="text/javascript" charset="utf-8"></script>
    <script src="/prod/analytics/public/hub/static/components/jquery/dist/jquery.min.js?v=de027062931edd07b01842eff24fc15fdbdcaa1af245dcd133155faba9e0c965f0a34dc6144ce3b149bc43b4597073c792cb6dabbfc6168c63095523923bcf77" type="text/javascript" charset="utf-8"></script>
    <script src="/prod/analytics/public/hub/static/components/bootstrap/dist/js/bootstrap.min.js?v=a014e9acc78d10a0a7a9fbaa29deac6ef17398542d9574b77b40bf446155d210fa43384757e3837da41b025998ebfab4b9b6f094033f9c226392b800df068bce" type="text/javascript" charset="utf-8"></script>
    
    <script>
      require.config({
          
          urlArgs: "v=20240318103609",
          
          baseUrl: '/prod/analytics/public/hub/static/js',
          paths: {
            components: '../components',
            jquery: '../components/jquery/dist/jquery.min',
            bootstrap: '../components/bootstrap/dist/js/bootstrap.min',
            moment: "../components/moment/moment",
          },
          shim: {
            bootstrap: {
              deps: ["jquery"],
              exports: "bootstrap"
            },
          }
      });
    </script>

    <script type="text/javascript">
      window.jhdata = {
        base_url: "/prod/analytics/public/hub/",
        prefix: "/prod/analytics/public/",
        
        user: "abfb381d-7893-4ae5-bb54-1572a0fc94c3",
        
        
        admin_access: false,
        
        
        options_form: false,
        
        xsrf_token: "2|616c069d|4d50f153668c74888c90b221ae4cfb79|1719994336",
      }
    </script>

    
    

</head>

<body>

<noscript>
  <div id='noscript'>
    JupyterHub requires JavaScript.<br>
    Please enable it to proceed.
  </div>
</noscript>


  <nav class="navbar navbar-default">
    <div class="container-fluid">
      <div class="navbar-header">
        
        <span id="jupyterhub-logo" class="pull-left">
            <a href="/prod/analytics/public/hub/"><img src='/prod/analytics/public/hub/logo' alt='JupyterHub logo' class='jpy-logo' title='Home'/></a>
        </span>
        
        
        <button type="button" class="navbar-toggle collapsed" data-toggle="collapse" data-target="#thenavbar" aria-expanded="false">
          <span class="sr-only">Toggle navigation</span>
          <span class="icon-bar"></span>
          <span class="icon-bar"></span>
          <span class="icon-bar"></span>
        </button>
        
      </div>

      <div class="collapse navbar-collapse" id="thenavbar">
        
        <ul class="nav navbar-nav">
          
            <li><a href="/prod/analytics/public/hub/home">Home</a></li>
            <li><a href="/prod/analytics/public/hub/token">Token</a></li>
            
            
          
        </ul>
        
        <ul class="nav navbar-nav navbar-right">
          
            <li>
              
                <span id="login_widget">
                  
                    <p class="navbar-text">abfb381d-7893-4ae5-bb54-1572a0fc94c3</p>
                    <a id="logout" role="button" class="navbar-btn btn-sm btn btn-default" href="/prod/analytics/public/hub/logout"> <i aria-hidden="true" class="fa fa-sign-out"></i> Logout</a>
                  
                </span>
              
            </li>
          
        </ul>
      </div>

      
      
    </div>
  </nav>










<div class="container">
  <div class="row">
    <div class="text-center">
      
      <p>Your server is starting up.</p>
      <p>You will be redirected automatically when it's ready for you.</p>
      
      <div class="progress">
        <div id="progress-bar" class="progress-bar" role="progressbar" aria-valuenow="0" aria-valuemin="0" aria-valuemax="100" style="width: 0%;">
          <span class="sr-only"><span id="sr-progress">0%</span> Complete</span>
        </div>
      </div>
      <p id="progress-message"></p>
    </div>
  </div>
  <div class="row">
    <div class="col-md-8 col-md-offset-2">
      <details id="progress-details">
        <summary>Event log</summary>
        <div id="progress-log"></div>
      </details>
    </div>
  </div>
</div>









<div class="modal fade" id="error-dialog" tabindex="-1" role="dialog" aria-labelledby="error-label" aria-hidden="true">
  <div class="modal-dialog">
    <div class="modal-content">
      <div class="modal-header">
        <button type="button" class="close" data-dismiss="modal"><span aria-hidden="true">&times;</span><span class="sr-only">Close</span></button>
        <h1 class="modal-title" id="error-label">Error</h1>
      </div>
      <div class="modal-body">
        
  <div class="ajax-error">
    The error
  </div>

      </div>
      <div class="modal-footer">
        <button type="button" class="btn btn-default" data-dismiss="modal">Cancel</button>
        <button type="button" class="btn btn-primary" data-dismiss="modal" data-dismiss="modal">OK</button>
      </div>
    </div>
  </div>
</div>





<script type="text/javascript">
require(["jquery"], function ($) {
  $("#refresh").click(function () {
    window.location.reload();
  });

  // hook up event-stream for progress
  var evtSource = new EventSource("/prod/analytics/public/hub/api/users/abfb381d-7893-4ae5-bb54-1572a0fc94c3/server/progress?_xsrf=2%7C616c069d%7C4d50f153668c74888c90b221ae4cfb79%7C1719994336");
  var progressMessage = $("#progress-message");
  var progressBar = $("#progress-bar");
  var srProgress = $("#sr-progress");
  var progressLog = $("#progress-log");

  evtSource.onmessage = function(e) {
    var evt = JSON.parse(e.data);
    console.log(evt);
    if (evt.progress !== undefined) {
      // update progress
      var progText = evt.progress.toString();
      progressBar.attr('aria-valuenow', progText);
      srProgress.text(progText + '%');
      progressBar.css('width', progText + '%');
    }
    // update message
    var html_message;
    if (evt.html_message !== undefined) {
      progressMessage.html(evt.html_message);
      html_message = evt.html_message;
    } else if (evt.message !== undefined) {
      progressMessage.text(evt.message);
      html_message = progressMessage.html();
    }
    if (html_message) {
      progressLog.append(
        $("<div>")
          .addClass('progress-log-event')
          .html(html_message)
      );
    }

    if (evt.ready) {
      evtSource.close();
      // reload the current page
      // which should result in a redirect to the running server
      window.location.reload();
    }

    if (evt.failed) {
      evtSource.close();
      // turn progress bar red
      progressBar.addClass('progress-bar-danger');
      // open event log for debugging
      $('#progress-details').prop('open', true);
    }
  };

  // signal that page has finished loading (mostly for tests)
  window._jupyterhub_page_loaded = true;
});
</script>


</body>

</html>